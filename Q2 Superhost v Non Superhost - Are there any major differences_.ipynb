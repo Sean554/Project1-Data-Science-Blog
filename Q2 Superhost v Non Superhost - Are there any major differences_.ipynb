{
 "cells": [
  {
   "cell_type": "markdown",
   "metadata": {},
   "source": [
    "Import necessary modules needed for cleaning and visualising the data. Also read in the datasets needed for this question."
   ]
  },
  {
   "cell_type": "code",
   "execution_count": 2,
   "metadata": {},
   "outputs": [],
   "source": [
    "#Read in necessary modules\n",
    "import pandas as pd\n",
    "import matplotlib.pyplot as plt\n",
    "#Import Seattle Air BnB Listings data.\n",
    "seattle_df_listings = pd.read_csv('/Users/Sean.Kelly/Dropbox/My Mac (MACBOOK049)/Downloads/archive (1)/seattle_listings.csv')\n"
   ]
  },
  {
   "cell_type": "code",
   "execution_count": 4,
   "metadata": {},
   "outputs": [
    {
     "name": "stdout",
     "output_type": "stream",
     "text": [
      "<class 'pandas.core.frame.DataFrame'>\n",
      "RangeIndex: 3818 entries, 0 to 3817\n",
      "Data columns (total 92 columns):\n",
      " #   Column                            Non-Null Count  Dtype  \n",
      "---  ------                            --------------  -----  \n",
      " 0   id                                3818 non-null   int64  \n",
      " 1   listing_url                       3818 non-null   object \n",
      " 2   scrape_id                         3818 non-null   float64\n",
      " 3   last_scraped                      3818 non-null   object \n",
      " 4   name                              3818 non-null   object \n",
      " 5   summary                           3641 non-null   object \n",
      " 6   space                             3249 non-null   object \n",
      " 7   description                       3818 non-null   object \n",
      " 8   experiences_offered               3818 non-null   object \n",
      " 9   neighborhood_overview             2786 non-null   object \n",
      " 10  notes                             2212 non-null   object \n",
      " 11  transit                           2884 non-null   object \n",
      " 12  thumbnail_url                     3498 non-null   object \n",
      " 13  medium_url                        3498 non-null   object \n",
      " 14  picture_url                       3818 non-null   object \n",
      " 15  xl_picture_url                    3498 non-null   object \n",
      " 16  host_id                           3818 non-null   int64  \n",
      " 17  host_url                          3818 non-null   object \n",
      " 18  host_name                         3816 non-null   object \n",
      " 19  host_since                        3816 non-null   object \n",
      " 20  host_location                     3810 non-null   object \n",
      " 21  host_about                        2959 non-null   object \n",
      " 22  host_response_time                3295 non-null   object \n",
      " 23  host_response_rate                3295 non-null   object \n",
      " 24  host_acceptance_rate              3045 non-null   object \n",
      " 25  host_is_superhost                 3816 non-null   object \n",
      " 26  host_thumbnail_url                3816 non-null   object \n",
      " 27  host_picture_url                  3816 non-null   object \n",
      " 28  host_neighbourhood                3518 non-null   object \n",
      " 29  host_listings_count               3816 non-null   float64\n",
      " 30  host_total_listings_count         3816 non-null   float64\n",
      " 31  host_verifications                3818 non-null   object \n",
      " 32  host_has_profile_pic              3816 non-null   object \n",
      " 33  host_identity_verified            3816 non-null   object \n",
      " 34  street                            3818 non-null   object \n",
      " 35  neighbourhood                     3402 non-null   object \n",
      " 36  neighbourhood_cleansed            3818 non-null   object \n",
      " 37  neighbourhood_group_cleansed      3818 non-null   object \n",
      " 38  city                              3818 non-null   object \n",
      " 39  state                             3818 non-null   object \n",
      " 40  zipcode                           3811 non-null   object \n",
      " 41  market                            3818 non-null   object \n",
      " 42  smart_location                    3818 non-null   object \n",
      " 43  country_code                      3818 non-null   object \n",
      " 44  country                           3818 non-null   object \n",
      " 45  latitude                          3818 non-null   float64\n",
      " 46  longitude                         3818 non-null   float64\n",
      " 47  is_location_exact                 3818 non-null   object \n",
      " 48  property_type                     3817 non-null   object \n",
      " 49  room_type                         3818 non-null   object \n",
      " 50  accommodates                      3818 non-null   int64  \n",
      " 51  bathrooms                         3802 non-null   float64\n",
      " 52  bedrooms                          3812 non-null   float64\n",
      " 53  beds                              3817 non-null   float64\n",
      " 54  bed_type                          3818 non-null   object \n",
      " 55  amenities                         3818 non-null   object \n",
      " 56  square_feet                       97 non-null     float64\n",
      " 57  price                             3818 non-null   object \n",
      " 58  weekly_price                      2009 non-null   object \n",
      " 59  monthly_price                     1517 non-null   object \n",
      " 60  security_deposit                  1866 non-null   object \n",
      " 61  cleaning_fee                      2788 non-null   object \n",
      " 62  guests_included                   3818 non-null   int64  \n",
      " 63  extra_people                      3818 non-null   object \n",
      " 64  minimum_nights                    3818 non-null   int64  \n",
      " 65  maximum_nights                    3818 non-null   int64  \n",
      " 66  calendar_updated                  3818 non-null   object \n",
      " 67  has_availability                  3818 non-null   object \n",
      " 68  availability_30                   3818 non-null   int64  \n",
      " 69  availability_60                   3818 non-null   int64  \n",
      " 70  availability_90                   3818 non-null   int64  \n",
      " 71  availability_365                  3818 non-null   int64  \n",
      " 72  calendar_last_scraped             3818 non-null   object \n",
      " 73  number_of_reviews                 3818 non-null   int64  \n",
      " 74  first_review                      3191 non-null   object \n",
      " 75  last_review                       3191 non-null   object \n",
      " 76  review_scores_rating              3171 non-null   float64\n",
      " 77  review_scores_accuracy            3160 non-null   float64\n",
      " 78  review_scores_cleanliness         3165 non-null   float64\n",
      " 79  review_scores_checkin             3160 non-null   float64\n",
      " 80  review_scores_communication       3167 non-null   float64\n",
      " 81  review_scores_location            3163 non-null   float64\n",
      " 82  review_scores_value               3162 non-null   float64\n",
      " 83  requires_license                  3818 non-null   object \n",
      " 84  license                           0 non-null      float64\n",
      " 85  jurisdiction_names                3818 non-null   object \n",
      " 86  instant_bookable                  3818 non-null   object \n",
      " 87  cancellation_policy               3818 non-null   object \n",
      " 88  require_guest_profile_picture     3818 non-null   object \n",
      " 89  require_guest_phone_verification  3818 non-null   object \n",
      " 90  calculated_host_listings_count    3818 non-null   int64  \n",
      " 91  reviews_per_month                 3191 non-null   float64\n",
      "dtypes: float64(18), int64(12), object(62)\n",
      "memory usage: 2.7+ MB\n"
     ]
    }
   ],
   "source": [
    "#Get a view of the columns we are working with in the Seattle listings dataframe.\n",
    "seattle_df_listings.info()"
   ]
  },
  {
   "cell_type": "markdown",
   "metadata": {},
   "source": [
    "Looking at these columns, we will select a few that could be useful in determining differences between superhosts and non superhosts. First, we will look at data on reviews to see if superhosts acheive better reviews on their Air BnB than non superhosts do."
   ]
  },
  {
   "cell_type": "code",
   "execution_count": 5,
   "metadata": {},
   "outputs": [
    {
     "data": {
      "text/html": [
       "<div>\n",
       "<style scoped>\n",
       "    .dataframe tbody tr th:only-of-type {\n",
       "        vertical-align: middle;\n",
       "    }\n",
       "\n",
       "    .dataframe tbody tr th {\n",
       "        vertical-align: top;\n",
       "    }\n",
       "\n",
       "    .dataframe thead th {\n",
       "        text-align: right;\n",
       "    }\n",
       "</style>\n",
       "<table border=\"1\" class=\"dataframe\">\n",
       "  <thead>\n",
       "    <tr style=\"text-align: right;\">\n",
       "      <th></th>\n",
       "      <th>host_is_superhost</th>\n",
       "      <th>number_of_reviews</th>\n",
       "      <th>review_scores_rating</th>\n",
       "      <th>review_scores_accuracy</th>\n",
       "      <th>review_scores_cleanliness</th>\n",
       "      <th>review_scores_checkin</th>\n",
       "      <th>review_scores_communication</th>\n",
       "      <th>review_scores_location</th>\n",
       "    </tr>\n",
       "  </thead>\n",
       "  <tbody>\n",
       "    <tr>\n",
       "      <th>0</th>\n",
       "      <td>f</td>\n",
       "      <td>207</td>\n",
       "      <td>95.0</td>\n",
       "      <td>10.0</td>\n",
       "      <td>10.0</td>\n",
       "      <td>10.0</td>\n",
       "      <td>10.0</td>\n",
       "      <td>9.0</td>\n",
       "    </tr>\n",
       "    <tr>\n",
       "      <th>1</th>\n",
       "      <td>t</td>\n",
       "      <td>43</td>\n",
       "      <td>96.0</td>\n",
       "      <td>10.0</td>\n",
       "      <td>10.0</td>\n",
       "      <td>10.0</td>\n",
       "      <td>10.0</td>\n",
       "      <td>10.0</td>\n",
       "    </tr>\n",
       "    <tr>\n",
       "      <th>2</th>\n",
       "      <td>f</td>\n",
       "      <td>20</td>\n",
       "      <td>97.0</td>\n",
       "      <td>10.0</td>\n",
       "      <td>10.0</td>\n",
       "      <td>10.0</td>\n",
       "      <td>10.0</td>\n",
       "      <td>10.0</td>\n",
       "    </tr>\n",
       "    <tr>\n",
       "      <th>3</th>\n",
       "      <td>f</td>\n",
       "      <td>0</td>\n",
       "      <td>NaN</td>\n",
       "      <td>NaN</td>\n",
       "      <td>NaN</td>\n",
       "      <td>NaN</td>\n",
       "      <td>NaN</td>\n",
       "      <td>NaN</td>\n",
       "    </tr>\n",
       "    <tr>\n",
       "      <th>4</th>\n",
       "      <td>f</td>\n",
       "      <td>38</td>\n",
       "      <td>92.0</td>\n",
       "      <td>9.0</td>\n",
       "      <td>9.0</td>\n",
       "      <td>10.0</td>\n",
       "      <td>10.0</td>\n",
       "      <td>9.0</td>\n",
       "    </tr>\n",
       "    <tr>\n",
       "      <th>...</th>\n",
       "      <td>...</td>\n",
       "      <td>...</td>\n",
       "      <td>...</td>\n",
       "      <td>...</td>\n",
       "      <td>...</td>\n",
       "      <td>...</td>\n",
       "      <td>...</td>\n",
       "      <td>...</td>\n",
       "    </tr>\n",
       "    <tr>\n",
       "      <th>3813</th>\n",
       "      <td>f</td>\n",
       "      <td>1</td>\n",
       "      <td>80.0</td>\n",
       "      <td>8.0</td>\n",
       "      <td>10.0</td>\n",
       "      <td>4.0</td>\n",
       "      <td>8.0</td>\n",
       "      <td>10.0</td>\n",
       "    </tr>\n",
       "    <tr>\n",
       "      <th>3814</th>\n",
       "      <td>f</td>\n",
       "      <td>2</td>\n",
       "      <td>100.0</td>\n",
       "      <td>10.0</td>\n",
       "      <td>10.0</td>\n",
       "      <td>10.0</td>\n",
       "      <td>10.0</td>\n",
       "      <td>10.0</td>\n",
       "    </tr>\n",
       "    <tr>\n",
       "      <th>3815</th>\n",
       "      <td>f</td>\n",
       "      <td>0</td>\n",
       "      <td>NaN</td>\n",
       "      <td>NaN</td>\n",
       "      <td>NaN</td>\n",
       "      <td>NaN</td>\n",
       "      <td>NaN</td>\n",
       "      <td>NaN</td>\n",
       "    </tr>\n",
       "    <tr>\n",
       "      <th>3816</th>\n",
       "      <td>f</td>\n",
       "      <td>0</td>\n",
       "      <td>NaN</td>\n",
       "      <td>NaN</td>\n",
       "      <td>NaN</td>\n",
       "      <td>NaN</td>\n",
       "      <td>NaN</td>\n",
       "      <td>NaN</td>\n",
       "    </tr>\n",
       "    <tr>\n",
       "      <th>3817</th>\n",
       "      <td>f</td>\n",
       "      <td>0</td>\n",
       "      <td>NaN</td>\n",
       "      <td>NaN</td>\n",
       "      <td>NaN</td>\n",
       "      <td>NaN</td>\n",
       "      <td>NaN</td>\n",
       "      <td>NaN</td>\n",
       "    </tr>\n",
       "  </tbody>\n",
       "</table>\n",
       "<p>3818 rows × 8 columns</p>\n",
       "</div>"
      ],
      "text/plain": [
       "     host_is_superhost  number_of_reviews  review_scores_rating  \\\n",
       "0                    f                207                  95.0   \n",
       "1                    t                 43                  96.0   \n",
       "2                    f                 20                  97.0   \n",
       "3                    f                  0                   NaN   \n",
       "4                    f                 38                  92.0   \n",
       "...                ...                ...                   ...   \n",
       "3813                 f                  1                  80.0   \n",
       "3814                 f                  2                 100.0   \n",
       "3815                 f                  0                   NaN   \n",
       "3816                 f                  0                   NaN   \n",
       "3817                 f                  0                   NaN   \n",
       "\n",
       "      review_scores_accuracy  review_scores_cleanliness  \\\n",
       "0                       10.0                       10.0   \n",
       "1                       10.0                       10.0   \n",
       "2                       10.0                       10.0   \n",
       "3                        NaN                        NaN   \n",
       "4                        9.0                        9.0   \n",
       "...                      ...                        ...   \n",
       "3813                     8.0                       10.0   \n",
       "3814                    10.0                       10.0   \n",
       "3815                     NaN                        NaN   \n",
       "3816                     NaN                        NaN   \n",
       "3817                     NaN                        NaN   \n",
       "\n",
       "      review_scores_checkin  review_scores_communication  \\\n",
       "0                      10.0                         10.0   \n",
       "1                      10.0                         10.0   \n",
       "2                      10.0                         10.0   \n",
       "3                       NaN                          NaN   \n",
       "4                      10.0                         10.0   \n",
       "...                     ...                          ...   \n",
       "3813                    4.0                          8.0   \n",
       "3814                   10.0                         10.0   \n",
       "3815                    NaN                          NaN   \n",
       "3816                    NaN                          NaN   \n",
       "3817                    NaN                          NaN   \n",
       "\n",
       "      review_scores_location  \n",
       "0                        9.0  \n",
       "1                       10.0  \n",
       "2                       10.0  \n",
       "3                        NaN  \n",
       "4                        9.0  \n",
       "...                      ...  \n",
       "3813                    10.0  \n",
       "3814                    10.0  \n",
       "3815                     NaN  \n",
       "3816                     NaN  \n",
       "3817                     NaN  \n",
       "\n",
       "[3818 rows x 8 columns]"
      ]
     },
     "execution_count": 5,
     "metadata": {},
     "output_type": "execute_result"
    }
   ],
   "source": [
    "#Create a new review df including whether or not the host is a superhost as well as data on reviews.\n",
    "reviews = seattle_df_listings[['host_is_superhost','number_of_reviews','review_scores_rating','review_scores_accuracy','review_scores_cleanliness','review_scores_checkin','review_scores_communication','review_scores_location']]\n",
    "reviews\n",
    "\n",
    "\n"
   ]
  },
  {
   "cell_type": "code",
   "execution_count": 6,
   "metadata": {
    "scrolled": true
   },
   "outputs": [
    {
     "name": "stderr",
     "output_type": "stream",
     "text": [
      "/opt/anaconda3/lib/python3.7/site-packages/ipykernel_launcher.py:2: SettingWithCopyWarning: \n",
      "A value is trying to be set on a copy of a slice from a DataFrame.\n",
      "Try using .loc[row_indexer,col_indexer] = value instead\n",
      "\n",
      "See the caveats in the documentation: https://pandas.pydata.org/pandas-docs/stable/user_guide/indexing.html#returning-a-view-versus-a-copy\n",
      "  \n"
     ]
    }
   ],
   "source": [
    "#Change the values in the host_is_superhost column to make it more clear. f = not a superhost. t = superhost.\n",
    "reviews['host_is_superhost']= reviews['host_is_superhost'].replace({'f':'Non Superhost', 't':'Superhost'})"
   ]
  },
  {
   "cell_type": "markdown",
   "metadata": {},
   "source": [
    "We can see in the chart below that most of the Air BnB hosts in Seattle are not superhosts. Around 80% not superhosts."
   ]
  },
  {
   "cell_type": "code",
   "execution_count": 7,
   "metadata": {
    "scrolled": false
   },
   "outputs": [
    {
     "data": {
      "text/plain": [
       "<matplotlib.axes._subplots.AxesSubplot at 0x11d4d9610>"
      ]
     },
     "execution_count": 7,
     "metadata": {},
     "output_type": "execute_result"
    },
    {
     "data": {
      "image/png": "[encoded data removed]",
      "text/plain": [
       "<Figure size 432x288 with 1 Axes>"
      ]
     },
     "metadata": {
      "needs_background": "light"
     },
     "output_type": "display_data"
    }
   ],
   "source": [
    "#Plot superhost v non superhost count.\n",
    "round(reviews['host_is_superhost'].value_counts()/len(reviews),2).plot(kind = 'bar', color = 'orange', title = '% Of Hosts that are Superhosts')"
   ]
  },
  {
   "cell_type": "markdown",
   "metadata": {},
   "source": [
    "Next, we have grouped the data by their superhost status, so we can start to compare differences."
   ]
  },
  {
   "cell_type": "code",
   "execution_count": 11,
   "metadata": {
    "scrolled": true
   },
   "outputs": [
    {
     "data": {
      "text/html": [
       "<div>\n",
       "<style scoped>\n",
       "    .dataframe tbody tr th:only-of-type {\n",
       "        vertical-align: middle;\n",
       "    }\n",
       "\n",
       "    .dataframe tbody tr th {\n",
       "        vertical-align: top;\n",
       "    }\n",
       "\n",
       "    .dataframe thead th {\n",
       "        text-align: right;\n",
       "    }\n",
       "</style>\n",
       "<table border=\"1\" class=\"dataframe\">\n",
       "  <thead>\n",
       "    <tr style=\"text-align: right;\">\n",
       "      <th></th>\n",
       "      <th>number_of_reviews</th>\n",
       "      <th>review_scores_rating</th>\n",
       "      <th>review_scores_accuracy</th>\n",
       "      <th>review_scores_cleanliness</th>\n",
       "      <th>review_scores_checkin</th>\n",
       "      <th>review_scores_communication</th>\n",
       "      <th>review_scores_location</th>\n",
       "    </tr>\n",
       "    <tr>\n",
       "      <th>host_is_superhost</th>\n",
       "      <th></th>\n",
       "      <th></th>\n",
       "      <th></th>\n",
       "      <th></th>\n",
       "      <th></th>\n",
       "      <th></th>\n",
       "      <th></th>\n",
       "    </tr>\n",
       "  </thead>\n",
       "  <tbody>\n",
       "    <tr>\n",
       "      <th>Non Superhost</th>\n",
       "      <td>17.235681</td>\n",
       "      <td>93.652893</td>\n",
       "      <td>9.552511</td>\n",
       "      <td>9.454018</td>\n",
       "      <td>9.731424</td>\n",
       "      <td>9.758278</td>\n",
       "      <td>9.564677</td>\n",
       "    </tr>\n",
       "    <tr>\n",
       "      <th>Superhost</th>\n",
       "      <td>41.757069</td>\n",
       "      <td>97.395473</td>\n",
       "      <td>9.905459</td>\n",
       "      <td>9.885486</td>\n",
       "      <td>9.964048</td>\n",
       "      <td>9.974700</td>\n",
       "      <td>9.750999</td>\n",
       "    </tr>\n",
       "  </tbody>\n",
       "</table>\n",
       "</div>"
      ],
      "text/plain": [
       "                   number_of_reviews  review_scores_rating  \\\n",
       "host_is_superhost                                            \n",
       "Non Superhost              17.235681             93.652893   \n",
       "Superhost                  41.757069             97.395473   \n",
       "\n",
       "                   review_scores_accuracy  review_scores_cleanliness  \\\n",
       "host_is_superhost                                                      \n",
       "Non Superhost                    9.552511                   9.454018   \n",
       "Superhost                        9.905459                   9.885486   \n",
       "\n",
       "                   review_scores_checkin  review_scores_communication  \\\n",
       "host_is_superhost                                                       \n",
       "Non Superhost                   9.731424                     9.758278   \n",
       "Superhost                       9.964048                     9.974700   \n",
       "\n",
       "                   review_scores_location  \n",
       "host_is_superhost                          \n",
       "Non Superhost                    9.564677  \n",
       "Superhost                        9.750999  "
      ]
     },
     "execution_count": 11,
     "metadata": {},
     "output_type": "execute_result"
    }
   ],
   "source": [
    "#groupby function to aggregate data by superhost status\n",
    "comparison = reviews.groupby('host_is_superhost', axis = 0).mean()\n",
    "comparison"
   ]
  },
  {
   "cell_type": "markdown",
   "metadata": {},
   "source": [
    "In the annotated plot below, we can see get a view of the contrast between varying review metrics depending on whether you are a superhost or not. The review scores of Superhosts rank higher in every department, I guess this is why there are superhosts!"
   ]
  },
  {
   "cell_type": "code",
   "execution_count": 15,
   "metadata": {
    "scrolled": true
   },
   "outputs": [
    {
     "data": {
      "image/png": "[encoded data removed]",
      "text/plain": [
       "<Figure size 1152x576 with 1 Axes>"
      ]
     },
     "metadata": {
      "needs_background": "light"
     },
     "output_type": "display_data"
    }
   ],
   "source": [
    "#Plot the differnces between all the review data against superhost status.\n",
    "ax = comparison.plot(kind = 'bar', figsize = (16,8), title = 'Comparison of Review metrics for a Superhost v Non Superhost')\n",
    "ax.set_xlabel('Superhost Status')\n",
    "\n",
    "x_offset = -0.03\n",
    "y_offset = 2\n",
    "for p in ax.patches:\n",
    "    b = p.get_bbox()\n",
    "    val = \"{:.2f}\".format(b.y1 + b.y0)        \n",
    "    ax.annotate(val, ((b.x0 + b.x1)/2 + x_offset, b.y1 + y_offset))"
   ]
  },
  {
   "cell_type": "markdown",
   "metadata": {},
   "source": [
    "Next, we will look into whether superhosts are better at responding to customers than non superhosts."
   ]
  },
  {
   "cell_type": "code",
   "execution_count": 17,
   "metadata": {},
   "outputs": [],
   "source": [
    "#New df for data on responses, including superhost status\n",
    "response = seattle_df_listings[['host_is_superhost','host_response_time','host_response_rate']]"
   ]
  },
  {
   "cell_type": "code",
   "execution_count": 18,
   "metadata": {},
   "outputs": [],
   "source": [
    "#Get rid of all null data.\n",
    "response = response.dropna()"
   ]
  },
  {
   "cell_type": "markdown",
   "metadata": {},
   "source": [
    "We can see data below on the superhost status, as well as how quickly they usually respond and how often they respond to their customers."
   ]
  },
  {
   "cell_type": "code",
   "execution_count": 21,
   "metadata": {},
   "outputs": [
    {
     "data": {
      "text/html": [
       "<div>\n",
       "<style scoped>\n",
       "    .dataframe tbody tr th:only-of-type {\n",
       "        vertical-align: middle;\n",
       "    }\n",
       "\n",
       "    .dataframe tbody tr th {\n",
       "        vertical-align: top;\n",
       "    }\n",
       "\n",
       "    .dataframe thead th {\n",
       "        text-align: right;\n",
       "    }\n",
       "</style>\n",
       "<table border=\"1\" class=\"dataframe\">\n",
       "  <thead>\n",
       "    <tr style=\"text-align: right;\">\n",
       "      <th></th>\n",
       "      <th>host_is_superhost</th>\n",
       "      <th>host_response_time</th>\n",
       "      <th>host_response_rate</th>\n",
       "    </tr>\n",
       "  </thead>\n",
       "  <tbody>\n",
       "    <tr>\n",
       "      <th>0</th>\n",
       "      <td>f</td>\n",
       "      <td>within a few hours</td>\n",
       "      <td>96%</td>\n",
       "    </tr>\n",
       "    <tr>\n",
       "      <th>1</th>\n",
       "      <td>t</td>\n",
       "      <td>within an hour</td>\n",
       "      <td>98%</td>\n",
       "    </tr>\n",
       "    <tr>\n",
       "      <th>2</th>\n",
       "      <td>f</td>\n",
       "      <td>within a few hours</td>\n",
       "      <td>67%</td>\n",
       "    </tr>\n",
       "    <tr>\n",
       "      <th>4</th>\n",
       "      <td>f</td>\n",
       "      <td>within an hour</td>\n",
       "      <td>100%</td>\n",
       "    </tr>\n",
       "    <tr>\n",
       "      <th>6</th>\n",
       "      <td>t</td>\n",
       "      <td>within an hour</td>\n",
       "      <td>100%</td>\n",
       "    </tr>\n",
       "    <tr>\n",
       "      <th>...</th>\n",
       "      <td>...</td>\n",
       "      <td>...</td>\n",
       "      <td>...</td>\n",
       "    </tr>\n",
       "    <tr>\n",
       "      <th>3812</th>\n",
       "      <td>t</td>\n",
       "      <td>within an hour</td>\n",
       "      <td>100%</td>\n",
       "    </tr>\n",
       "    <tr>\n",
       "      <th>3813</th>\n",
       "      <td>f</td>\n",
       "      <td>within a few hours</td>\n",
       "      <td>99%</td>\n",
       "    </tr>\n",
       "    <tr>\n",
       "      <th>3814</th>\n",
       "      <td>f</td>\n",
       "      <td>within an hour</td>\n",
       "      <td>100%</td>\n",
       "    </tr>\n",
       "    <tr>\n",
       "      <th>3816</th>\n",
       "      <td>f</td>\n",
       "      <td>within an hour</td>\n",
       "      <td>100%</td>\n",
       "    </tr>\n",
       "    <tr>\n",
       "      <th>3817</th>\n",
       "      <td>f</td>\n",
       "      <td>within a day</td>\n",
       "      <td>100%</td>\n",
       "    </tr>\n",
       "  </tbody>\n",
       "</table>\n",
       "<p>3295 rows × 3 columns</p>\n",
       "</div>"
      ],
      "text/plain": [
       "     host_is_superhost  host_response_time host_response_rate\n",
       "0                    f  within a few hours                96%\n",
       "1                    t      within an hour                98%\n",
       "2                    f  within a few hours                67%\n",
       "4                    f      within an hour               100%\n",
       "6                    t      within an hour               100%\n",
       "...                ...                 ...                ...\n",
       "3812                 t      within an hour               100%\n",
       "3813                 f  within a few hours                99%\n",
       "3814                 f      within an hour               100%\n",
       "3816                 f      within an hour               100%\n",
       "3817                 f        within a day               100%\n",
       "\n",
       "[3295 rows x 3 columns]"
      ]
     },
     "execution_count": 21,
     "metadata": {},
     "output_type": "execute_result"
    }
   ],
   "source": [
    "response"
   ]
  },
  {
   "cell_type": "code",
   "execution_count": 22,
   "metadata": {},
   "outputs": [],
   "source": [
    "#Change the values in the host_is_superhost column to make it more clear. f = not a superhost. t = superhost.\n",
    "response['host_is_superhost']= response['host_is_superhost'].replace({'f':'Non Superhost', 't':'Superhost'})"
   ]
  },
  {
   "cell_type": "code",
   "execution_count": 24,
   "metadata": {
    "scrolled": false
   },
   "outputs": [
    {
     "data": {
      "text/plain": [
       "host_is_superhost     object\n",
       "host_response_time    object\n",
       "host_response_rate    object\n",
       "dtype: object"
      ]
     },
     "execution_count": 24,
     "metadata": {},
     "output_type": "execute_result"
    }
   ],
   "source": [
    "#Check datatypes, all columns objects. response rate ideally should be a numerical value.\n",
    "response.dtypes"
   ]
  },
  {
   "cell_type": "code",
   "execution_count": 25,
   "metadata": {},
   "outputs": [],
   "source": [
    "#Get rid of the % symbol in the host_response_rate column and make it numeric.\n",
    "response['host_response_rate'] = response['host_response_rate'].str.replace('%', '')\n",
    "response['host_response_rate'] = pd.to_numeric(response['host_response_rate'],errors='coerce')\n"
   ]
  },
  {
   "cell_type": "code",
   "execution_count": 27,
   "metadata": {
    "scrolled": true
   },
   "outputs": [],
   "source": [
    "#Split data between response rate and response time.\n",
    "response_rate = response[['host_is_superhost','host_response_rate']]\n",
    "response_time = response[['host_is_superhost','host_response_time']]"
   ]
  },
  {
   "cell_type": "markdown",
   "metadata": {},
   "source": [
    "Next, aggregate the data by their superhost status, and compare the response rates between the status."
   ]
  },
  {
   "cell_type": "code",
   "execution_count": 28,
   "metadata": {},
   "outputs": [],
   "source": [
    "comparison2 = pd.pivot_table(data = response_rate, index = 'host_is_superhost', values = 'host_response_rate') "
   ]
  },
  {
   "cell_type": "markdown",
   "metadata": {},
   "source": [
    "Again, in the chart below, we can see that superhosts respond to their customers more often than non superhosts do. "
   ]
  },
  {
   "cell_type": "code",
   "execution_count": 30,
   "metadata": {
    "scrolled": false
   },
   "outputs": [
    {
     "data": {
      "image/png": "[encoded data removed]",
      "text/plain": [
       "<Figure size 432x288 with 1 Axes>"
      ]
     },
     "metadata": {
      "needs_background": "light"
     },
     "output_type": "display_data"
    }
   ],
   "source": [
    "#Plot the comparison chart.\n",
    "ax = comparison2.plot(kind = 'bar')\n",
    "ax.get_legend().remove()\n",
    "ax.set_xlabel('Superhost Status')\n",
    "x_offset = -0.03\n",
    "y_offset = 2\n",
    "for p in ax.patches:\n",
    "    b = p.get_bbox()\n",
    "    val = \"{:.2f}\".format(b.y1 + b.y0)        \n",
    "    ax.annotate(val, ((b.x0 + b.x1)/2 + x_offset, b.y1 + y_offset))"
   ]
  },
  {
   "cell_type": "markdown",
   "metadata": {},
   "source": [
    "Now, lets look at the response times of superhosts v non superhosts."
   ]
  },
  {
   "cell_type": "code",
   "execution_count": 31,
   "metadata": {
    "scrolled": true
   },
   "outputs": [
    {
     "data": {
      "text/html": [
       "<div>\n",
       "<style scoped>\n",
       "    .dataframe tbody tr th:only-of-type {\n",
       "        vertical-align: middle;\n",
       "    }\n",
       "\n",
       "    .dataframe tbody tr th {\n",
       "        vertical-align: top;\n",
       "    }\n",
       "\n",
       "    .dataframe thead th {\n",
       "        text-align: right;\n",
       "    }\n",
       "</style>\n",
       "<table border=\"1\" class=\"dataframe\">\n",
       "  <thead>\n",
       "    <tr style=\"text-align: right;\">\n",
       "      <th></th>\n",
       "      <th>host_is_superhost</th>\n",
       "      <th>host_response_time</th>\n",
       "    </tr>\n",
       "  </thead>\n",
       "  <tbody>\n",
       "    <tr>\n",
       "      <th>0</th>\n",
       "      <td>Non Superhost</td>\n",
       "      <td>within a few hours</td>\n",
       "    </tr>\n",
       "    <tr>\n",
       "      <th>1</th>\n",
       "      <td>Superhost</td>\n",
       "      <td>within an hour</td>\n",
       "    </tr>\n",
       "    <tr>\n",
       "      <th>2</th>\n",
       "      <td>Non Superhost</td>\n",
       "      <td>within a few hours</td>\n",
       "    </tr>\n",
       "    <tr>\n",
       "      <th>4</th>\n",
       "      <td>Non Superhost</td>\n",
       "      <td>within an hour</td>\n",
       "    </tr>\n",
       "    <tr>\n",
       "      <th>6</th>\n",
       "      <td>Superhost</td>\n",
       "      <td>within an hour</td>\n",
       "    </tr>\n",
       "  </tbody>\n",
       "</table>\n",
       "</div>"
      ],
      "text/plain": [
       "  host_is_superhost  host_response_time\n",
       "0     Non Superhost  within a few hours\n",
       "1         Superhost      within an hour\n",
       "2     Non Superhost  within a few hours\n",
       "4     Non Superhost      within an hour\n",
       "6         Superhost      within an hour"
      ]
     },
     "execution_count": 31,
     "metadata": {},
     "output_type": "execute_result"
    }
   ],
   "source": [
    "#Get a view of the data\n",
    "response_time.head(5)"
   ]
  },
  {
   "cell_type": "code",
   "execution_count": 32,
   "metadata": {},
   "outputs": [],
   "source": [
    "#Split the data between superhosts and non superhosts\n",
    "response_time_superhost = response_time[response_time['host_is_superhost'] == 'Superhost']\n",
    "response_time_non_superhost = response_time[response_time['host_is_superhost'] == 'Non Superhost']"
   ]
  },
  {
   "cell_type": "code",
   "execution_count": 34,
   "metadata": {},
   "outputs": [],
   "source": [
    "#Make a new df on the non superhost response times as a %\n",
    "non_superhost = pd.DataFrame(data = response_time_non_superhost['host_response_time'].value_counts()/len(response_time_non_superhost))\n",
    "#Rename the columns in the new df\n",
    "non_superhost = non_superhost.rename(columns = {'host_response_time': 'Non Superhost Response Times (%)'})\n",
    "#Round the numbers in the df so its more visually pleasing in the table\n",
    "non_superhost['Non Superhost Response Times (%)'] = round(non_superhost['Non Superhost Response Times (%)']*100,1)\n",
    "\n",
    "\n",
    "#Make a new df on the superhost response times as a %\n",
    "superhost = pd.DataFrame(data = response_time_superhost['host_response_time'].value_counts()/len(response_time_superhost))\n",
    "#Rename the columns in the new df\n",
    "superhost = superhost.rename(columns = {'host_response_time': 'Superhost Response Times (%)'})\n",
    "#Round the numbers in the df so its more visually pleasing in the table\n",
    "superhost['Superhost Response Times (%)'] = round(superhost['Superhost Response Times (%)']*100,1)\n"
   ]
  },
  {
   "cell_type": "markdown",
   "metadata": {},
   "source": [
    "In the table below, it gives us a comparison of how long it takes Air Bnb hosts to respond based on superhost status. Clearly, we can see that superhosts are much mor effective at responding to their customers."
   ]
  },
  {
   "cell_type": "code",
   "execution_count": 39,
   "metadata": {
    "scrolled": true
   },
   "outputs": [
    {
     "data": {
      "text/html": [
       "<div>\n",
       "<style scoped>\n",
       "    .dataframe tbody tr th:only-of-type {\n",
       "        vertical-align: middle;\n",
       "    }\n",
       "\n",
       "    .dataframe tbody tr th {\n",
       "        vertical-align: top;\n",
       "    }\n",
       "\n",
       "    .dataframe thead th {\n",
       "        text-align: right;\n",
       "    }\n",
       "</style>\n",
       "<table border=\"1\" class=\"dataframe\">\n",
       "  <thead>\n",
       "    <tr style=\"text-align: right;\">\n",
       "      <th></th>\n",
       "      <th>Superhost Response Times (%)</th>\n",
       "      <th>Non Superhost Response Times (%)</th>\n",
       "    </tr>\n",
       "  </thead>\n",
       "  <tbody>\n",
       "    <tr>\n",
       "      <th>within an hour</th>\n",
       "      <td>65.6</td>\n",
       "      <td>47.2</td>\n",
       "    </tr>\n",
       "    <tr>\n",
       "      <th>within a few hours</th>\n",
       "      <td>26.6</td>\n",
       "      <td>30.2</td>\n",
       "    </tr>\n",
       "    <tr>\n",
       "      <th>within a day</th>\n",
       "      <td>7.7</td>\n",
       "      <td>21.2</td>\n",
       "    </tr>\n",
       "    <tr>\n",
       "      <th>a few days or more</th>\n",
       "      <td>0.1</td>\n",
       "      <td>1.5</td>\n",
       "    </tr>\n",
       "  </tbody>\n",
       "</table>\n",
       "</div>"
      ],
      "text/plain": [
       "                    Superhost Response Times (%)  \\\n",
       "within an hour                              65.6   \n",
       "within a few hours                          26.6   \n",
       "within a day                                 7.7   \n",
       "a few days or more                           0.1   \n",
       "\n",
       "                    Non Superhost Response Times (%)  \n",
       "within an hour                                  47.2  \n",
       "within a few hours                              30.2  \n",
       "within a day                                    21.2  \n",
       "a few days or more                               1.5  "
      ]
     },
     "execution_count": 39,
     "metadata": {},
     "output_type": "execute_result"
    }
   ],
   "source": [
    "#combine this data\n",
    "frames = [non_superhost,superhost]\n",
    "#Plot the comparison table\n",
    "result = pd.concat([superhost, non_superhost], axis=1)\n",
    "result.rename(columns = {})"
   ]
  },
  {
   "cell_type": "markdown",
   "metadata": {},
   "source": [
    "Finally, we will look at the difference in price by superhost status. We will compare price by number of bedrooms."
   ]
  },
  {
   "cell_type": "code",
   "execution_count": 5,
   "metadata": {},
   "outputs": [],
   "source": [
    "#Gather columns we need for analysis. \n",
    "price_comparison = seattle_df_listings[['bedrooms','host_is_superhost','price']]"
   ]
  },
  {
   "cell_type": "code",
   "execution_count": 7,
   "metadata": {
    "scrolled": true
   },
   "outputs": [
    {
     "data": {
      "text/html": [
       "<div>\n",
       "<style scoped>\n",
       "    .dataframe tbody tr th:only-of-type {\n",
       "        vertical-align: middle;\n",
       "    }\n",
       "\n",
       "    .dataframe tbody tr th {\n",
       "        vertical-align: top;\n",
       "    }\n",
       "\n",
       "    .dataframe thead th {\n",
       "        text-align: right;\n",
       "    }\n",
       "</style>\n",
       "<table border=\"1\" class=\"dataframe\">\n",
       "  <thead>\n",
       "    <tr style=\"text-align: right;\">\n",
       "      <th></th>\n",
       "      <th>bedrooms</th>\n",
       "      <th>host_is_superhost</th>\n",
       "      <th>price</th>\n",
       "    </tr>\n",
       "  </thead>\n",
       "  <tbody>\n",
       "    <tr>\n",
       "      <th>0</th>\n",
       "      <td>1.0</td>\n",
       "      <td>f</td>\n",
       "      <td>$85.00</td>\n",
       "    </tr>\n",
       "    <tr>\n",
       "      <th>1</th>\n",
       "      <td>1.0</td>\n",
       "      <td>t</td>\n",
       "      <td>$150.00</td>\n",
       "    </tr>\n",
       "    <tr>\n",
       "      <th>2</th>\n",
       "      <td>5.0</td>\n",
       "      <td>f</td>\n",
       "      <td>$975.00</td>\n",
       "    </tr>\n",
       "    <tr>\n",
       "      <th>3</th>\n",
       "      <td>0.0</td>\n",
       "      <td>f</td>\n",
       "      <td>$100.00</td>\n",
       "    </tr>\n",
       "    <tr>\n",
       "      <th>4</th>\n",
       "      <td>3.0</td>\n",
       "      <td>f</td>\n",
       "      <td>$450.00</td>\n",
       "    </tr>\n",
       "    <tr>\n",
       "      <th>...</th>\n",
       "      <td>...</td>\n",
       "      <td>...</td>\n",
       "      <td>...</td>\n",
       "    </tr>\n",
       "    <tr>\n",
       "      <th>3813</th>\n",
       "      <td>3.0</td>\n",
       "      <td>f</td>\n",
       "      <td>$359.00</td>\n",
       "    </tr>\n",
       "    <tr>\n",
       "      <th>3814</th>\n",
       "      <td>1.0</td>\n",
       "      <td>f</td>\n",
       "      <td>$79.00</td>\n",
       "    </tr>\n",
       "    <tr>\n",
       "      <th>3815</th>\n",
       "      <td>1.0</td>\n",
       "      <td>f</td>\n",
       "      <td>$93.00</td>\n",
       "    </tr>\n",
       "    <tr>\n",
       "      <th>3816</th>\n",
       "      <td>0.0</td>\n",
       "      <td>f</td>\n",
       "      <td>$99.00</td>\n",
       "    </tr>\n",
       "    <tr>\n",
       "      <th>3817</th>\n",
       "      <td>2.0</td>\n",
       "      <td>f</td>\n",
       "      <td>$87.00</td>\n",
       "    </tr>\n",
       "  </tbody>\n",
       "</table>\n",
       "<p>3818 rows × 3 columns</p>\n",
       "</div>"
      ],
      "text/plain": [
       "      bedrooms host_is_superhost    price\n",
       "0          1.0                 f   $85.00\n",
       "1          1.0                 t  $150.00\n",
       "2          5.0                 f  $975.00\n",
       "3          0.0                 f  $100.00\n",
       "4          3.0                 f  $450.00\n",
       "...        ...               ...      ...\n",
       "3813       3.0                 f  $359.00\n",
       "3814       1.0                 f   $79.00\n",
       "3815       1.0                 f   $93.00\n",
       "3816       0.0                 f   $99.00\n",
       "3817       2.0                 f   $87.00\n",
       "\n",
       "[3818 rows x 3 columns]"
      ]
     },
     "execution_count": 7,
     "metadata": {},
     "output_type": "execute_result"
    }
   ],
   "source": [
    "#Get a view of this data.\n",
    "price_comparison"
   ]
  },
  {
   "cell_type": "markdown",
   "metadata": {},
   "source": [
    "Let's convert price to a numeric through the function."
   ]
  },
  {
   "cell_type": "code",
   "execution_count": 8,
   "metadata": {},
   "outputs": [
    {
     "name": "stderr",
     "output_type": "stream",
     "text": [
      "/opt/anaconda3/lib/python3.7/site-packages/ipykernel_launcher.py:18: SettingWithCopyWarning: \n",
      "A value is trying to be set on a copy of a slice from a DataFrame.\n",
      "Try using .loc[row_indexer,col_indexer] = value instead\n",
      "\n",
      "See the caveats in the documentation: https://pandas.pydata.org/pandas-docs/stable/user_guide/indexing.html#returning-a-view-versus-a-copy\n"
     ]
    }
   ],
   "source": [
    "def func(col):\n",
    "    \n",
    "    '''\n",
    "    INPUT\n",
    "    col - column from pandas dataframe \n",
    "    \n",
    "    OUTPUT\n",
    "    col - cleaned column from pandas dataframe\n",
    "    \n",
    "    This function cleans df using the following steps:\n",
    "    1. Removes the first digit at the beginning of the column\n",
    "    2. Converts the column to numeric\n",
    "    '''\n",
    "     \n",
    "    col = col.str[1:]\n",
    "    col = pd.to_numeric(col,errors='coerce')\n",
    "    return col\n",
    "price_comparison['price'] = price_comparison[['price']].apply(func)"
   ]
  },
  {
   "cell_type": "code",
   "execution_count": 9,
   "metadata": {},
   "outputs": [],
   "source": [
    "#Rename the column name 'host_is_superhost' to 'Superhost Status' and 'price' to 'Price ($)' in the new df\n",
    "price_comparison = price_comparison.rename(columns = {'host_is_superhost': 'Superhost Status', 'price':'Price ($)'})\n",
    "#Change the values in the host_is_superhost column to make it more clear. f = not a superhost. t = superhost.\n",
    "price_comparison['Superhost Status']= price_comparison['Superhost Status'].replace({'f':'Non Superhost', 't':'Superhost'})\n",
    "#Round this data by 2.\n",
    "price_comparison['Price ($)'] = round(price_comparison['Price ($)'],2)"
   ]
  },
  {
   "cell_type": "markdown",
   "metadata": {},
   "source": [
    "Next, we will groupby the number or bedrooms and superhost status, and get the mean price of each. This will allow us to see any differences in price between superhosts and non superhosts by no. of bedrooms."
   ]
  },
  {
   "cell_type": "code",
   "execution_count": 12,
   "metadata": {
    "scrolled": true
   },
   "outputs": [
    {
     "data": {
      "text/html": [
       "<div>\n",
       "<style scoped>\n",
       "    .dataframe tbody tr th:only-of-type {\n",
       "        vertical-align: middle;\n",
       "    }\n",
       "\n",
       "    .dataframe tbody tr th {\n",
       "        vertical-align: top;\n",
       "    }\n",
       "\n",
       "    .dataframe thead th {\n",
       "        text-align: right;\n",
       "    }\n",
       "</style>\n",
       "<table border=\"1\" class=\"dataframe\">\n",
       "  <thead>\n",
       "    <tr style=\"text-align: right;\">\n",
       "      <th></th>\n",
       "      <th></th>\n",
       "      <th>Price ($)</th>\n",
       "    </tr>\n",
       "    <tr>\n",
       "      <th>bedrooms</th>\n",
       "      <th>Superhost Status</th>\n",
       "      <th></th>\n",
       "    </tr>\n",
       "  </thead>\n",
       "  <tbody>\n",
       "    <tr>\n",
       "      <th rowspan=\"2\" valign=\"top\">0.0</th>\n",
       "      <th>Non Superhost</th>\n",
       "      <td>101.9</td>\n",
       "    </tr>\n",
       "    <tr>\n",
       "      <th>Superhost</th>\n",
       "      <td>109.8</td>\n",
       "    </tr>\n",
       "    <tr>\n",
       "      <th rowspan=\"2\" valign=\"top\">1.0</th>\n",
       "      <th>Non Superhost</th>\n",
       "      <td>94.3</td>\n",
       "    </tr>\n",
       "    <tr>\n",
       "      <th>Superhost</th>\n",
       "      <td>100.4</td>\n",
       "    </tr>\n",
       "    <tr>\n",
       "      <th rowspan=\"2\" valign=\"top\">2.0</th>\n",
       "      <th>Non Superhost</th>\n",
       "      <td>168.9</td>\n",
       "    </tr>\n",
       "    <tr>\n",
       "      <th>Superhost</th>\n",
       "      <td>190.5</td>\n",
       "    </tr>\n",
       "    <tr>\n",
       "      <th rowspan=\"2\" valign=\"top\">3.0</th>\n",
       "      <th>Non Superhost</th>\n",
       "      <td>248.9</td>\n",
       "    </tr>\n",
       "    <tr>\n",
       "      <th>Superhost</th>\n",
       "      <td>252.7</td>\n",
       "    </tr>\n",
       "    <tr>\n",
       "      <th rowspan=\"2\" valign=\"top\">4.0</th>\n",
       "      <th>Non Superhost</th>\n",
       "      <td>318.6</td>\n",
       "    </tr>\n",
       "    <tr>\n",
       "      <th>Superhost</th>\n",
       "      <td>287.6</td>\n",
       "    </tr>\n",
       "    <tr>\n",
       "      <th rowspan=\"2\" valign=\"top\">5.0</th>\n",
       "      <th>Non Superhost</th>\n",
       "      <td>473.1</td>\n",
       "    </tr>\n",
       "    <tr>\n",
       "      <th>Superhost</th>\n",
       "      <td>376.9</td>\n",
       "    </tr>\n",
       "    <tr>\n",
       "      <th rowspan=\"2\" valign=\"top\">6.0</th>\n",
       "      <th>Non Superhost</th>\n",
       "      <td>557.2</td>\n",
       "    </tr>\n",
       "    <tr>\n",
       "      <th>Superhost</th>\n",
       "      <td>620.0</td>\n",
       "    </tr>\n",
       "    <tr>\n",
       "      <th>7.0</th>\n",
       "      <th>Non Superhost</th>\n",
       "      <td>375.0</td>\n",
       "    </tr>\n",
       "  </tbody>\n",
       "</table>\n",
       "</div>"
      ],
      "text/plain": [
       "                           Price ($)\n",
       "bedrooms Superhost Status           \n",
       "0.0      Non Superhost         101.9\n",
       "         Superhost             109.8\n",
       "1.0      Non Superhost          94.3\n",
       "         Superhost             100.4\n",
       "2.0      Non Superhost         168.9\n",
       "         Superhost             190.5\n",
       "3.0      Non Superhost         248.9\n",
       "         Superhost             252.7\n",
       "4.0      Non Superhost         318.6\n",
       "         Superhost             287.6\n",
       "5.0      Non Superhost         473.1\n",
       "         Superhost             376.9\n",
       "6.0      Non Superhost         557.2\n",
       "         Superhost             620.0\n",
       "7.0      Non Superhost         375.0"
      ]
     },
     "execution_count": 12,
     "metadata": {},
     "output_type": "execute_result"
    }
   ],
   "source": [
    "p = price_comparison.groupby(['bedrooms','Superhost Status'],axis =0).mean()\n",
    "p['Price ($)'] = round(p['Price ($)'],1)\n",
    "p"
   ]
  },
  {
   "cell_type": "markdown",
   "metadata": {},
   "source": [
    "The plot below shows there is a not a massive difference in the price per night of an air bnb based on superhost status."
   ]
  },
  {
   "cell_type": "code",
   "execution_count": 17,
   "metadata": {},
   "outputs": [
    {
     "data": {
      "text/plain": [
       "<matplotlib.axes._subplots.AxesSubplot at 0x111882a90>"
      ]
     },
     "execution_count": 17,
     "metadata": {},
     "output_type": "execute_result"
    },
    {
     "data": {
      "image/png": "[encoded data removed]",
      "text/plain": [
       "<Figure size 1080x504 with 1 Axes>"
      ]
     },
     "metadata": {
      "needs_background": "light"
     },
     "output_type": "display_data"
    }
   ],
   "source": [
    "# plot data\n",
    "fig, ax = plt.subplots(figsize=(15,7))\n",
    "# use unstack()\n",
    "p.groupby(['bedrooms','Superhost Status']).count()['Price ($)'].plot(ax=ax, kind = 'bar')"
   ]
  },
  {
   "cell_type": "code",
   "execution_count": null,
   "metadata": {},
   "outputs": [],
   "source": []
  }
 ],
 "metadata": {
  "kernelspec": {
   "display_name": "Python 3",
   "language": "python",
   "name": "python3"
  },
  "language_info": {
   "codemirror_mode": {
    "name": "ipython",
    "version": 3
   },
   "file_extension": ".py",
   "mimetype": "text/x-python",
   "name": "python",
   "nbconvert_exporter": "python",
   "pygments_lexer": "ipython3",
   "version": "3.7.4"
  }
 },
 "nbformat": 4,
 "nbformat_minor": 2
}
