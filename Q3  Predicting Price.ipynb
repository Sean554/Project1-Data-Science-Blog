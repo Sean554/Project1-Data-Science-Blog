{
 "cells": [
  {
   "cell_type": "markdown",
   "metadata": {},
   "source": [
    "Import necessary modules needed for cleaning and visualising the data. Also read in the datasets needed. For this question, we are going to be combining both the Boston and Seattle Air BnB datasets and including the city as a variable to try and see if this has an impact on price."
   ]
  },
  {
   "cell_type": "code",
   "execution_count": 1,
   "metadata": {},
   "outputs": [],
   "source": [
    "import pandas as pd \n",
    "import numpy as np\n",
    "import matplotlib.pyplot as plt\n",
    "import seaborn as sns\n",
    "import missingno as msno\n",
    "%matplotlib inline\n",
    "\n",
    "seattle_df_listings = pd.read_csv('/Users/Sean.Kelly/Dropbox/My Mac (MACBOOK049)/Downloads/archive (1)/seattle_listings.csv')\n",
    "boston_df_listings = pd.read_csv('/Users/Sean.Kelly/Dropbox/My Mac (MACBOOK049)/Downloads/archive/boston_listings.csv')\n"
   ]
  },
  {
   "cell_type": "markdown",
   "metadata": {},
   "source": [
    "Combine the two datasets together. We want to look at the city as an potential factor in price so we need to use both datasets at the same time."
   ]
  },
  {
   "cell_type": "code",
   "execution_count": 2,
   "metadata": {},
   "outputs": [
    {
     "data": {
      "text/plain": [
       "(7403, 95)"
      ]
     },
     "execution_count": 2,
     "metadata": {},
     "output_type": "execute_result"
    }
   ],
   "source": [
    "datasets_combined = [seattle_df_listings, boston_df_listings]\n",
    "df_listings = pd.concat(datasets_combined,axis = 0)\n",
    "df_listings.shape"
   ]
  },
  {
   "cell_type": "code",
   "execution_count": 3,
   "metadata": {
    "scrolled": false
   },
   "outputs": [
    {
     "data": {
      "text/html": [
       "<div>\n",
       "<style scoped>\n",
       "    .dataframe tbody tr th:only-of-type {\n",
       "        vertical-align: middle;\n",
       "    }\n",
       "\n",
       "    .dataframe tbody tr th {\n",
       "        vertical-align: top;\n",
       "    }\n",
       "\n",
       "    .dataframe thead th {\n",
       "        text-align: right;\n",
       "    }\n",
       "</style>\n",
       "<table border=\"1\" class=\"dataframe\">\n",
       "  <thead>\n",
       "    <tr style=\"text-align: right;\">\n",
       "      <th></th>\n",
       "      <th>id</th>\n",
       "      <th>listing_url</th>\n",
       "      <th>scrape_id</th>\n",
       "      <th>last_scraped</th>\n",
       "      <th>name</th>\n",
       "      <th>summary</th>\n",
       "      <th>space</th>\n",
       "      <th>description</th>\n",
       "      <th>experiences_offered</th>\n",
       "      <th>neighborhood_overview</th>\n",
       "      <th>...</th>\n",
       "      <th>jurisdiction_names</th>\n",
       "      <th>instant_bookable</th>\n",
       "      <th>cancellation_policy</th>\n",
       "      <th>require_guest_profile_picture</th>\n",
       "      <th>require_guest_phone_verification</th>\n",
       "      <th>calculated_host_listings_count</th>\n",
       "      <th>reviews_per_month</th>\n",
       "      <th>access</th>\n",
       "      <th>interaction</th>\n",
       "      <th>house_rules</th>\n",
       "    </tr>\n",
       "  </thead>\n",
       "  <tbody>\n",
       "    <tr>\n",
       "      <th>0</th>\n",
       "      <td>241032</td>\n",
       "      <td>https://www.airbnb.com/rooms/241032</td>\n",
       "      <td>2.016010e+13</td>\n",
       "      <td>04/01/2016</td>\n",
       "      <td>Stylish Queen Anne Apartment</td>\n",
       "      <td>NaN</td>\n",
       "      <td>Make your self at home in this charming one-be...</td>\n",
       "      <td>Make your self at home in this charming one-be...</td>\n",
       "      <td>none</td>\n",
       "      <td>NaN</td>\n",
       "      <td>...</td>\n",
       "      <td>WASHINGTON</td>\n",
       "      <td>f</td>\n",
       "      <td>moderate</td>\n",
       "      <td>f</td>\n",
       "      <td>f</td>\n",
       "      <td>2</td>\n",
       "      <td>4.07</td>\n",
       "      <td>NaN</td>\n",
       "      <td>NaN</td>\n",
       "      <td>NaN</td>\n",
       "    </tr>\n",
       "    <tr>\n",
       "      <th>1</th>\n",
       "      <td>953595</td>\n",
       "      <td>https://www.airbnb.com/rooms/953595</td>\n",
       "      <td>2.016010e+13</td>\n",
       "      <td>04/01/2016</td>\n",
       "      <td>Bright &amp; Airy Queen Anne Apartment</td>\n",
       "      <td>Chemically sensitive? We've removed the irrita...</td>\n",
       "      <td>Beautiful, hypoallergenic apartment in an extr...</td>\n",
       "      <td>Chemically sensitive? We've removed the irrita...</td>\n",
       "      <td>none</td>\n",
       "      <td>Queen Anne is a wonderful, truly functional vi...</td>\n",
       "      <td>...</td>\n",
       "      <td>WASHINGTON</td>\n",
       "      <td>f</td>\n",
       "      <td>strict</td>\n",
       "      <td>t</td>\n",
       "      <td>t</td>\n",
       "      <td>6</td>\n",
       "      <td>1.48</td>\n",
       "      <td>NaN</td>\n",
       "      <td>NaN</td>\n",
       "      <td>NaN</td>\n",
       "    </tr>\n",
       "    <tr>\n",
       "      <th>2</th>\n",
       "      <td>3308979</td>\n",
       "      <td>https://www.airbnb.com/rooms/3308979</td>\n",
       "      <td>2.016010e+13</td>\n",
       "      <td>04/01/2016</td>\n",
       "      <td>New Modern House-Amazing water view</td>\n",
       "      <td>New modern house built in 2013.  Spectacular s...</td>\n",
       "      <td>Our house is modern, light and fresh with a wa...</td>\n",
       "      <td>New modern house built in 2013.  Spectacular s...</td>\n",
       "      <td>none</td>\n",
       "      <td>Upper Queen Anne is a charming neighborhood fu...</td>\n",
       "      <td>...</td>\n",
       "      <td>WASHINGTON</td>\n",
       "      <td>f</td>\n",
       "      <td>strict</td>\n",
       "      <td>f</td>\n",
       "      <td>f</td>\n",
       "      <td>2</td>\n",
       "      <td>1.15</td>\n",
       "      <td>NaN</td>\n",
       "      <td>NaN</td>\n",
       "      <td>NaN</td>\n",
       "    </tr>\n",
       "    <tr>\n",
       "      <th>3</th>\n",
       "      <td>7421966</td>\n",
       "      <td>https://www.airbnb.com/rooms/7421966</td>\n",
       "      <td>2.016010e+13</td>\n",
       "      <td>04/01/2016</td>\n",
       "      <td>Queen Anne Chateau</td>\n",
       "      <td>A charming apartment that sits atop Queen Anne...</td>\n",
       "      <td>NaN</td>\n",
       "      <td>A charming apartment that sits atop Queen Anne...</td>\n",
       "      <td>none</td>\n",
       "      <td>NaN</td>\n",
       "      <td>...</td>\n",
       "      <td>WASHINGTON</td>\n",
       "      <td>f</td>\n",
       "      <td>flexible</td>\n",
       "      <td>f</td>\n",
       "      <td>f</td>\n",
       "      <td>1</td>\n",
       "      <td>NaN</td>\n",
       "      <td>NaN</td>\n",
       "      <td>NaN</td>\n",
       "      <td>NaN</td>\n",
       "    </tr>\n",
       "    <tr>\n",
       "      <th>4</th>\n",
       "      <td>278830</td>\n",
       "      <td>https://www.airbnb.com/rooms/278830</td>\n",
       "      <td>2.016010e+13</td>\n",
       "      <td>04/01/2016</td>\n",
       "      <td>Charming craftsman 3 bdm house</td>\n",
       "      <td>Cozy family craftman house in beautiful neighb...</td>\n",
       "      <td>Cozy family craftman house in beautiful neighb...</td>\n",
       "      <td>Cozy family craftman house in beautiful neighb...</td>\n",
       "      <td>none</td>\n",
       "      <td>We are in the beautiful neighborhood of Queen ...</td>\n",
       "      <td>...</td>\n",
       "      <td>WASHINGTON</td>\n",
       "      <td>f</td>\n",
       "      <td>strict</td>\n",
       "      <td>f</td>\n",
       "      <td>f</td>\n",
       "      <td>1</td>\n",
       "      <td>0.89</td>\n",
       "      <td>NaN</td>\n",
       "      <td>NaN</td>\n",
       "      <td>NaN</td>\n",
       "    </tr>\n",
       "  </tbody>\n",
       "</table>\n",
       "<p>5 rows × 95 columns</p>\n",
       "</div>"
      ],
      "text/plain": [
       "        id                           listing_url     scrape_id last_scraped  \\\n",
       "0   241032   https://www.airbnb.com/rooms/241032  2.016010e+13   04/01/2016   \n",
       "1   953595   https://www.airbnb.com/rooms/953595  2.016010e+13   04/01/2016   \n",
       "2  3308979  https://www.airbnb.com/rooms/3308979  2.016010e+13   04/01/2016   \n",
       "3  7421966  https://www.airbnb.com/rooms/7421966  2.016010e+13   04/01/2016   \n",
       "4   278830   https://www.airbnb.com/rooms/278830  2.016010e+13   04/01/2016   \n",
       "\n",
       "                                  name  \\\n",
       "0         Stylish Queen Anne Apartment   \n",
       "1   Bright & Airy Queen Anne Apartment   \n",
       "2  New Modern House-Amazing water view   \n",
       "3                   Queen Anne Chateau   \n",
       "4       Charming craftsman 3 bdm house   \n",
       "\n",
       "                                             summary  \\\n",
       "0                                                NaN   \n",
       "1  Chemically sensitive? We've removed the irrita...   \n",
       "2  New modern house built in 2013.  Spectacular s...   \n",
       "3  A charming apartment that sits atop Queen Anne...   \n",
       "4  Cozy family craftman house in beautiful neighb...   \n",
       "\n",
       "                                               space  \\\n",
       "0  Make your self at home in this charming one-be...   \n",
       "1  Beautiful, hypoallergenic apartment in an extr...   \n",
       "2  Our house is modern, light and fresh with a wa...   \n",
       "3                                                NaN   \n",
       "4  Cozy family craftman house in beautiful neighb...   \n",
       "\n",
       "                                         description experiences_offered  \\\n",
       "0  Make your self at home in this charming one-be...                none   \n",
       "1  Chemically sensitive? We've removed the irrita...                none   \n",
       "2  New modern house built in 2013.  Spectacular s...                none   \n",
       "3  A charming apartment that sits atop Queen Anne...                none   \n",
       "4  Cozy family craftman house in beautiful neighb...                none   \n",
       "\n",
       "                               neighborhood_overview  ... jurisdiction_names  \\\n",
       "0                                                NaN  ...         WASHINGTON   \n",
       "1  Queen Anne is a wonderful, truly functional vi...  ...         WASHINGTON   \n",
       "2  Upper Queen Anne is a charming neighborhood fu...  ...         WASHINGTON   \n",
       "3                                                NaN  ...         WASHINGTON   \n",
       "4  We are in the beautiful neighborhood of Queen ...  ...         WASHINGTON   \n",
       "\n",
       "  instant_bookable cancellation_policy require_guest_profile_picture  \\\n",
       "0                f            moderate                             f   \n",
       "1                f              strict                             t   \n",
       "2                f              strict                             f   \n",
       "3                f            flexible                             f   \n",
       "4                f              strict                             f   \n",
       "\n",
       "  require_guest_phone_verification calculated_host_listings_count  \\\n",
       "0                                f                              2   \n",
       "1                                t                              6   \n",
       "2                                f                              2   \n",
       "3                                f                              1   \n",
       "4                                f                              1   \n",
       "\n",
       "   reviews_per_month access interaction house_rules  \n",
       "0               4.07    NaN         NaN         NaN  \n",
       "1               1.48    NaN         NaN         NaN  \n",
       "2               1.15    NaN         NaN         NaN  \n",
       "3                NaN    NaN         NaN         NaN  \n",
       "4               0.89    NaN         NaN         NaN  \n",
       "\n",
       "[5 rows x 95 columns]"
      ]
     },
     "execution_count": 3,
     "metadata": {},
     "output_type": "execute_result"
    }
   ],
   "source": [
    "#Have a look at the dataset to get an overview of what we are working with. \n",
    "#I also reset the index as I joined two datasets , one on top of the other.\n",
    "df_listings = df_listings.reset_index(drop = True)\n",
    "df_listings.head(5)"
   ]
  },
  {
   "cell_type": "code",
   "execution_count": 4,
   "metadata": {},
   "outputs": [
    {
     "name": "stdout",
     "output_type": "stream",
     "text": [
      "<class 'pandas.core.frame.DataFrame'>\n",
      "RangeIndex: 7403 entries, 0 to 7402\n",
      "Data columns (total 95 columns):\n",
      " #   Column                            Non-Null Count  Dtype  \n",
      "---  ------                            --------------  -----  \n",
      " 0   id                                7403 non-null   int64  \n",
      " 1   listing_url                       7403 non-null   object \n",
      " 2   scrape_id                         7403 non-null   float64\n",
      " 3   last_scraped                      7403 non-null   object \n",
      " 4   name                              7403 non-null   object \n",
      " 5   summary                           7083 non-null   object \n",
      " 6   space                             5777 non-null   object \n",
      " 7   description                       7403 non-null   object \n",
      " 8   experiences_offered               7403 non-null   object \n",
      " 9   neighborhood_overview             4956 non-null   object \n",
      " 10  notes                             3822 non-null   object \n",
      " 11  transit                           5179 non-null   object \n",
      " 12  thumbnail_url                     6484 non-null   object \n",
      " 13  medium_url                        6484 non-null   object \n",
      " 14  picture_url                       7403 non-null   object \n",
      " 15  xl_picture_url                    6484 non-null   object \n",
      " 16  host_id                           7403 non-null   int64  \n",
      " 17  host_url                          7403 non-null   object \n",
      " 18  host_name                         7401 non-null   object \n",
      " 19  host_since                        7401 non-null   object \n",
      " 20  host_location                     7384 non-null   object \n",
      " 21  host_about                        5235 non-null   object \n",
      " 22  host_response_time                6409 non-null   object \n",
      " 23  host_response_rate                6409 non-null   object \n",
      " 24  host_acceptance_rate              6159 non-null   object \n",
      " 25  host_is_superhost                 7401 non-null   object \n",
      " 26  host_thumbnail_url                7401 non-null   object \n",
      " 27  host_picture_url                  7401 non-null   object \n",
      " 28  host_neighbourhood                6764 non-null   object \n",
      " 29  host_listings_count               7401 non-null   float64\n",
      " 30  host_total_listings_count         7401 non-null   float64\n",
      " 31  host_verifications                7403 non-null   object \n",
      " 32  host_has_profile_pic              7401 non-null   object \n",
      " 33  host_identity_verified            7401 non-null   object \n",
      " 34  street                            7403 non-null   object \n",
      " 35  neighbourhood                     6444 non-null   object \n",
      " 36  neighbourhood_cleansed            7403 non-null   object \n",
      " 37  neighbourhood_group_cleansed      3818 non-null   object \n",
      " 38  city                              7401 non-null   object \n",
      " 39  state                             7403 non-null   object \n",
      " 40  zipcode                           7358 non-null   object \n",
      " 41  market                            7389 non-null   object \n",
      " 42  smart_location                    7403 non-null   object \n",
      " 43  country_code                      7403 non-null   object \n",
      " 44  country                           7403 non-null   object \n",
      " 45  latitude                          7403 non-null   float64\n",
      " 46  longitude                         7403 non-null   float64\n",
      " 47  is_location_exact                 7403 non-null   object \n",
      " 48  property_type                     7399 non-null   object \n",
      " 49  room_type                         7403 non-null   object \n",
      " 50  accommodates                      7403 non-null   int64  \n",
      " 51  bathrooms                         7373 non-null   float64\n",
      " 52  bedrooms                          7387 non-null   float64\n",
      " 53  beds                              7393 non-null   float64\n",
      " 54  bed_type                          7403 non-null   object \n",
      " 55  amenities                         7403 non-null   object \n",
      " 56  square_feet                       153 non-null    float64\n",
      " 57  price                             7403 non-null   object \n",
      " 58  weekly_price                      2901 non-null   object \n",
      " 59  monthly_price                     2405 non-null   object \n",
      " 60  security_deposit                  3208 non-null   object \n",
      " 61  cleaning_fee                      5266 non-null   object \n",
      " 62  guests_included                   7403 non-null   int64  \n",
      " 63  extra_people                      7403 non-null   object \n",
      " 64  minimum_nights                    7403 non-null   int64  \n",
      " 65  maximum_nights                    7403 non-null   int64  \n",
      " 66  calendar_updated                  7403 non-null   object \n",
      " 67  has_availability                  3818 non-null   object \n",
      " 68  availability_30                   7403 non-null   int64  \n",
      " 69  availability_60                   7403 non-null   int64  \n",
      " 70  availability_90                   7403 non-null   int64  \n",
      " 71  availability_365                  7403 non-null   int64  \n",
      " 72  calendar_last_scraped             7403 non-null   object \n",
      " 73  number_of_reviews                 7403 non-null   int64  \n",
      " 74  first_review                      6020 non-null   object \n",
      " 75  last_review                       6020 non-null   object \n",
      " 76  review_scores_rating              5943 non-null   float64\n",
      " 77  review_scores_accuracy            5922 non-null   float64\n",
      " 78  review_scores_cleanliness         5932 non-null   float64\n",
      " 79  review_scores_checkin             5925 non-null   float64\n",
      " 80  review_scores_communication       5934 non-null   float64\n",
      " 81  review_scores_location            5926 non-null   float64\n",
      " 82  review_scores_value               5926 non-null   float64\n",
      " 83  requires_license                  7403 non-null   object \n",
      " 84  license                           0 non-null      float64\n",
      " 85  jurisdiction_names                3818 non-null   object \n",
      " 86  instant_bookable                  7403 non-null   object \n",
      " 87  cancellation_policy               7403 non-null   object \n",
      " 88  require_guest_profile_picture     7403 non-null   object \n",
      " 89  require_guest_phone_verification  7403 non-null   object \n",
      " 90  calculated_host_listings_count    7403 non-null   int64  \n",
      " 91  reviews_per_month                 6020 non-null   float64\n",
      " 92  access                            2096 non-null   object \n",
      " 93  interaction                       2031 non-null   object \n",
      " 94  house_rules                       2393 non-null   object \n",
      "dtypes: float64(18), int64(12), object(65)\n",
      "memory usage: 5.4+ MB\n"
     ]
    }
   ],
   "source": [
    "#Get a view of all the data types of the columns\n",
    "df_listings.info()"
   ]
  },
  {
   "cell_type": "markdown",
   "metadata": {},
   "source": [
    "**Step 1 : Cleaning/Visualising Data And Dealing With Numerical Data**"
   ]
  },
  {
   "cell_type": "code",
   "execution_count": 5,
   "metadata": {
    "scrolled": true
   },
   "outputs": [
    {
     "data": {
      "text/plain": [
       "license                         1.000000\n",
       "square_feet                     0.979333\n",
       "interaction                     0.725652\n",
       "access                          0.716872\n",
       "house_rules                     0.676753\n",
       "monthly_price                   0.675132\n",
       "weekly_price                    0.608132\n",
       "security_deposit                0.566662\n",
       "neighbourhood_group_cleansed    0.484263\n",
       "has_availability                0.484263\n",
       "dtype: float64"
      ]
     },
     "execution_count": 5,
     "metadata": {},
     "output_type": "execute_result"
    }
   ],
   "source": [
    "#Check the null data within the columns and order them from the highest % null values to the lowest.\n",
    "null_data = df_listings.isnull().sum()/len(df_listings)\n",
    "null_data = null_data.sort_values(ascending = False)\n",
    "null_data.head(10)"
   ]
  },
  {
   "cell_type": "markdown",
   "metadata": {},
   "source": [
    "This plot shows us some interesting information such as the fact that some columns such as **has_availability** have no missing data for the seattle dataset but 100% missing from the Boston dataset. These columns do not seem like they would have a massive impact on price, or have too much null data to use, so we will likely drop them later."
   ]
  },
  {
   "cell_type": "code",
   "execution_count": 6,
   "metadata": {
    "scrolled": false
   },
   "outputs": [
    {
     "data": {
      "text/plain": [
       "<matplotlib.axes._subplots.AxesSubplot at 0x1242fad50>"
      ]
     },
     "execution_count": 6,
     "metadata": {},
     "output_type": "execute_result"
    },
    {
     "data": {
      "image/png": "[encoded data removed]",
      "text/plain": [
       "<Figure size 1800x720 with 2 Axes>"
      ]
     },
     "metadata": {
      "needs_background": "light"
     },
     "output_type": "display_data"
    }
   ],
   "source": [
    "#Visualise the columns with missing data greater than 0.25 and where abouts within the data this missing data occurs.\n",
    "df_null = df_listings[df_listings.columns[df_listings.isnull().sum()/len(df_listings) > 0.25]]\n",
    "msno.matrix(df_null)"
   ]
  },
  {
   "cell_type": "markdown",
   "metadata": {},
   "source": [
    "A column we are likely to be interested in is the **host_location** as it is likely this could relate to price. This column will need to be cleaned in order to provide us with useful information. "
   ]
  },
  {
   "cell_type": "code",
   "execution_count": 7,
   "metadata": {
    "scrolled": false
   },
   "outputs": [
    {
     "data": {
      "text/plain": [
       "<matplotlib.axes._subplots.AxesSubplot at 0x1243d4210>"
      ]
     },
     "execution_count": 7,
     "metadata": {},
     "output_type": "execute_result"
    },
    {
     "data": {
      "image/png": "[encoded data removed]",
      "text/plain": [
       "<Figure size 432x288 with 1 Axes>"
      ]
     },
     "metadata": {
      "needs_background": "light"
     },
     "output_type": "display_data"
    }
   ],
   "source": [
    "#View the different values that this column holds.\n",
    "#There are plenty of entries which can not be assigned to either boston or seattle.\n",
    "boston_or_seattle = df_listings['host_location'].value_counts().head(20)\n",
    "boston_or_seattle.plot(kind = 'bar')\n"
   ]
  },
  {
   "cell_type": "markdown",
   "metadata": {},
   "source": [
    "If the host location is in the state of washington, we will assign it seattle, likewise if it is in massachusetts we will assign it to boston. If it in not in either, we will call it a null value and deal with this later. We will also conver this to a binary, numeric column so we can see if it has much of a correlation with price.\n"
   ]
  },
  {
   "cell_type": "code",
   "execution_count": 8,
   "metadata": {},
   "outputs": [],
   "source": [
    "#Assign anything is Washington to Seattle and any accomodation in Massachusetts to Boston.\n",
    "df_listings['host_location'] = np.select([df_listings['host_location'].str.contains('Washington', na = False),df_listings['host_location']\n",
    "                                          .str.contains('Massachusetts', na = False)], \n",
    "                                         [\"Seattle, Washington, United States\", 'Boston, Massachusetts, United States'], default = 'NA')\n",
    "\n",
    "#Convert this to Seattle = 0 and Boston = 1 .\n",
    "df_listings.loc[(df_listings['host_location'] == 'Seattle, Washington, United States'), 'city'] = 0 \n",
    "df_listings.loc[(df_listings['host_location'] == 'Boston, Massachusetts, United States'), 'city'] = 1 \n",
    "df_listings.loc[(df_listings['host_location'] != 'Seattle, Washington, United States') & (df_listings['host_location'] != 'Boston, Massachusetts, United States'), 'city'] = 'NA'\n",
    "\n",
    "#Convert the column to a numeric instead of object.\n",
    "df_listings['city'] = pd.to_numeric(df_listings['city'],errors='coerce')\n",
    "    "
   ]
  },
  {
   "cell_type": "markdown",
   "metadata": {},
   "source": [
    "Another column we want to convert to numeric is price, as it currently has dollar symbols in the column so it is listed an an object. "
   ]
  },
  {
   "cell_type": "code",
   "execution_count": 9,
   "metadata": {},
   "outputs": [
    {
     "data": {
      "text/plain": [
       "0     $85.00\n",
       "1    $150.00\n",
       "2    $975.00\n",
       "3    $100.00\n",
       "4    $450.00\n",
       "Name: price, dtype: object"
      ]
     },
     "execution_count": 9,
     "metadata": {},
     "output_type": "execute_result"
    }
   ],
   "source": [
    "df_listings['price'].head()"
   ]
  },
  {
   "cell_type": "code",
   "execution_count": 10,
   "metadata": {},
   "outputs": [],
   "source": [
    "#Apply a function that will strip the dollar sign from infront of the price values and convert it to a numeric column.\n",
    "def convert_price(col):\n",
    "     \n",
    "    '''\n",
    "    INPUT\n",
    "    col - column from pandas dataframe \n",
    "    \n",
    "    OUTPUT\n",
    "    col - cleaned column from pandas dataframe\n",
    "    \n",
    "    This function cleans df using the following steps:\n",
    "    1. Removes the first digit at the beginning of the column\n",
    "    2. Converts the column to numeric\n",
    "    '''\n",
    "    \n",
    "    col = col.str[1:]\n",
    "    col = pd.to_numeric(col,errors='coerce')\n",
    "    return col\n",
    "df_listings['price'] = df_listings[['price']].apply(convert_price)\n"
   ]
  },
  {
   "cell_type": "code",
   "execution_count": 11,
   "metadata": {
    "scrolled": true
   },
   "outputs": [
    {
     "data": {
      "text/plain": [
       "<matplotlib.axes._subplots.AxesSubplot at 0x125ec5210>"
      ]
     },
     "execution_count": 11,
     "metadata": {},
     "output_type": "execute_result"
    },
    {
     "data": {
      "image/png": "[encoded data removed]",
      "text/plain": [
       "<Figure size 720x576 with 2 Axes>"
      ]
     },
     "metadata": {
      "needs_background": "light"
     },
     "output_type": "display_data"
    }
   ],
   "source": [
    "#Now we have price and city as numeric varibles, let's take a look at all numerical columns and see if we can find correlations to price.\n",
    "num_data = df_listings.select_dtypes(exclude = ['object'])\n",
    "corr = num_data.corr()\n",
    "fig, ax = plt.subplots(figsize=(10,8))\n",
    "# plot the heatmap and annotation on it\n",
    "sns.heatmap(corr, xticklabels=corr.columns, yticklabels=corr.columns, ax = ax)\n"
   ]
  },
  {
   "cell_type": "markdown",
   "metadata": {},
   "source": [
    "The issue with this plot is there are so many numerical columns, it is hard to focus on specific columns of interest, so let's just look at correlation against the price column, as this is the main column of interst."
   ]
  },
  {
   "cell_type": "code",
   "execution_count": 12,
   "metadata": {
    "scrolled": false
   },
   "outputs": [
    {
     "data": {
      "text/plain": [
       "Text(0, 0.5, 'Correlation with Price')"
      ]
     },
     "execution_count": 12,
     "metadata": {},
     "output_type": "execute_result"
    },
    {
     "data": {
      "image/png": "[encoded data removed]",
      "text/plain": [
       "<Figure size 576x288 with 1 Axes>"
      ]
     },
     "metadata": {
      "needs_background": "light"
     },
     "output_type": "display_data"
    }
   ],
   "source": [
    "#We can see there is clearly some correlation between some of the variables and price\n",
    "price_corr = num_data.corr()['price'].sort_values(ascending = False)\n",
    "#plot the correlation barchart.\n",
    "ax = price_corr.plot(kind = 'bar', figsize = (8,4), color = 'skyblue')\n",
    "ax.set_xlabel('Column')\n",
    "ax.set_ylabel('Correlation with Price')"
   ]
  },
  {
   "cell_type": "markdown",
   "metadata": {},
   "source": [
    "Now that we can see clearly the columns which have the highest correlation with price, we can select these to be used as our numerical values in our predictive model"
   ]
  },
  {
   "cell_type": "code",
   "execution_count": 13,
   "metadata": {},
   "outputs": [],
   "source": [
    "#Select the columns that seem like they are most relatable/correlated to the overall price of accomodation.\n",
    "#Do not select square_feet as we saw earlier that it had 98% missing data.\n",
    "#Although city isn't one of the highest, I will use it anyway as it seems like it could be related to price.\n",
    "df_listings_num = df_listings[['accommodates', 'bedrooms', 'beds', 'bathrooms', 'guests_included', 'city','price']]"
   ]
  },
  {
   "cell_type": "markdown",
   "metadata": {},
   "source": [
    "We can now see the null values wihin our new **df_listings_num** dataframe, so will will impute or remove these"
   ]
  },
  {
   "cell_type": "code",
   "execution_count": 14,
   "metadata": {
    "scrolled": true
   },
   "outputs": [
    {
     "data": {
      "text/plain": [
       "city               0.169931\n",
       "bathrooms          0.004052\n",
       "bedrooms           0.002161\n",
       "price              0.001756\n",
       "beds               0.001351\n",
       "guests_included    0.000000\n",
       "accommodates       0.000000\n",
       "dtype: float64"
      ]
     },
     "execution_count": 14,
     "metadata": {},
     "output_type": "execute_result"
    }
   ],
   "source": [
    "(df_listings_num.isnull().sum()/len(df_listings_num)).sort_values(ascending = False)"
   ]
  },
  {
   "cell_type": "markdown",
   "metadata": {
    "scrolled": true
   },
   "source": [
    "I will use the number of people the Air Bnb accomodates to fill is missing bedrooms. For example, if an Air Bnb accomodates 2 people, I will impute the associated missing bedroom value with the mean number of bedrooms for Air Bnbs that accomodate 2 people would normally have. \n",
    "\n"
   ]
  },
  {
   "cell_type": "code",
   "execution_count": 15,
   "metadata": {
    "scrolled": true
   },
   "outputs": [
    {
     "data": {
      "text/html": [
       "<div>\n",
       "<style scoped>\n",
       "    .dataframe tbody tr th:only-of-type {\n",
       "        vertical-align: middle;\n",
       "    }\n",
       "\n",
       "    .dataframe tbody tr th {\n",
       "        vertical-align: top;\n",
       "    }\n",
       "\n",
       "    .dataframe thead th {\n",
       "        text-align: right;\n",
       "    }\n",
       "</style>\n",
       "<table border=\"1\" class=\"dataframe\">\n",
       "  <thead>\n",
       "    <tr style=\"text-align: right;\">\n",
       "      <th></th>\n",
       "      <th>accommodates</th>\n",
       "      <th>bedrooms</th>\n",
       "      <th>beds</th>\n",
       "      <th>bathrooms</th>\n",
       "      <th>guests_included</th>\n",
       "      <th>city</th>\n",
       "      <th>price</th>\n",
       "    </tr>\n",
       "  </thead>\n",
       "  <tbody>\n",
       "    <tr>\n",
       "      <th>1429</th>\n",
       "      <td>2</td>\n",
       "      <td>NaN</td>\n",
       "      <td>1.0</td>\n",
       "      <td>1.0</td>\n",
       "      <td>2</td>\n",
       "      <td>NaN</td>\n",
       "      <td>80.0</td>\n",
       "    </tr>\n",
       "    <tr>\n",
       "      <th>1492</th>\n",
       "      <td>6</td>\n",
       "      <td>NaN</td>\n",
       "      <td>1.0</td>\n",
       "      <td>1.0</td>\n",
       "      <td>1</td>\n",
       "      <td>NaN</td>\n",
       "      <td>200.0</td>\n",
       "    </tr>\n",
       "    <tr>\n",
       "      <th>1493</th>\n",
       "      <td>4</td>\n",
       "      <td>NaN</td>\n",
       "      <td>2.0</td>\n",
       "      <td>1.0</td>\n",
       "      <td>1</td>\n",
       "      <td>0.0</td>\n",
       "      <td>132.0</td>\n",
       "    </tr>\n",
       "    <tr>\n",
       "      <th>1853</th>\n",
       "      <td>2</td>\n",
       "      <td>NaN</td>\n",
       "      <td>1.0</td>\n",
       "      <td>1.0</td>\n",
       "      <td>2</td>\n",
       "      <td>0.0</td>\n",
       "      <td>95.0</td>\n",
       "    </tr>\n",
       "    <tr>\n",
       "      <th>2619</th>\n",
       "      <td>2</td>\n",
       "      <td>NaN</td>\n",
       "      <td>1.0</td>\n",
       "      <td>1.0</td>\n",
       "      <td>1</td>\n",
       "      <td>0.0</td>\n",
       "      <td>99.0</td>\n",
       "    </tr>\n",
       "    <tr>\n",
       "      <th>2915</th>\n",
       "      <td>2</td>\n",
       "      <td>NaN</td>\n",
       "      <td>1.0</td>\n",
       "      <td>1.0</td>\n",
       "      <td>1</td>\n",
       "      <td>0.0</td>\n",
       "      <td>75.0</td>\n",
       "    </tr>\n",
       "    <tr>\n",
       "      <th>4736</th>\n",
       "      <td>2</td>\n",
       "      <td>NaN</td>\n",
       "      <td>1.0</td>\n",
       "      <td>1.0</td>\n",
       "      <td>1</td>\n",
       "      <td>NaN</td>\n",
       "      <td>176.0</td>\n",
       "    </tr>\n",
       "    <tr>\n",
       "      <th>4738</th>\n",
       "      <td>2</td>\n",
       "      <td>NaN</td>\n",
       "      <td>1.0</td>\n",
       "      <td>1.0</td>\n",
       "      <td>1</td>\n",
       "      <td>NaN</td>\n",
       "      <td>229.0</td>\n",
       "    </tr>\n",
       "    <tr>\n",
       "      <th>4742</th>\n",
       "      <td>2</td>\n",
       "      <td>NaN</td>\n",
       "      <td>1.0</td>\n",
       "      <td>1.0</td>\n",
       "      <td>1</td>\n",
       "      <td>NaN</td>\n",
       "      <td>275.0</td>\n",
       "    </tr>\n",
       "    <tr>\n",
       "      <th>4913</th>\n",
       "      <td>2</td>\n",
       "      <td>NaN</td>\n",
       "      <td>1.0</td>\n",
       "      <td>1.0</td>\n",
       "      <td>1</td>\n",
       "      <td>NaN</td>\n",
       "      <td>186.0</td>\n",
       "    </tr>\n",
       "    <tr>\n",
       "      <th>4935</th>\n",
       "      <td>2</td>\n",
       "      <td>NaN</td>\n",
       "      <td>1.0</td>\n",
       "      <td>1.0</td>\n",
       "      <td>1</td>\n",
       "      <td>NaN</td>\n",
       "      <td>269.0</td>\n",
       "    </tr>\n",
       "    <tr>\n",
       "      <th>4950</th>\n",
       "      <td>2</td>\n",
       "      <td>NaN</td>\n",
       "      <td>1.0</td>\n",
       "      <td>1.0</td>\n",
       "      <td>2</td>\n",
       "      <td>NaN</td>\n",
       "      <td>225.0</td>\n",
       "    </tr>\n",
       "    <tr>\n",
       "      <th>5069</th>\n",
       "      <td>2</td>\n",
       "      <td>NaN</td>\n",
       "      <td>1.0</td>\n",
       "      <td>1.0</td>\n",
       "      <td>1</td>\n",
       "      <td>NaN</td>\n",
       "      <td>209.0</td>\n",
       "    </tr>\n",
       "    <tr>\n",
       "      <th>5184</th>\n",
       "      <td>2</td>\n",
       "      <td>NaN</td>\n",
       "      <td>1.0</td>\n",
       "      <td>1.0</td>\n",
       "      <td>1</td>\n",
       "      <td>NaN</td>\n",
       "      <td>209.0</td>\n",
       "    </tr>\n",
       "    <tr>\n",
       "      <th>5237</th>\n",
       "      <td>2</td>\n",
       "      <td>NaN</td>\n",
       "      <td>1.0</td>\n",
       "      <td>1.0</td>\n",
       "      <td>1</td>\n",
       "      <td>NaN</td>\n",
       "      <td>209.0</td>\n",
       "    </tr>\n",
       "    <tr>\n",
       "      <th>5777</th>\n",
       "      <td>2</td>\n",
       "      <td>NaN</td>\n",
       "      <td>1.0</td>\n",
       "      <td>1.0</td>\n",
       "      <td>2</td>\n",
       "      <td>1.0</td>\n",
       "      <td>175.0</td>\n",
       "    </tr>\n",
       "  </tbody>\n",
       "</table>\n",
       "</div>"
      ],
      "text/plain": [
       "      accommodates  bedrooms  beds  bathrooms  guests_included  city  price\n",
       "1429             2       NaN   1.0        1.0                2   NaN   80.0\n",
       "1492             6       NaN   1.0        1.0                1   NaN  200.0\n",
       "1493             4       NaN   2.0        1.0                1   0.0  132.0\n",
       "1853             2       NaN   1.0        1.0                2   0.0   95.0\n",
       "2619             2       NaN   1.0        1.0                1   0.0   99.0\n",
       "2915             2       NaN   1.0        1.0                1   0.0   75.0\n",
       "4736             2       NaN   1.0        1.0                1   NaN  176.0\n",
       "4738             2       NaN   1.0        1.0                1   NaN  229.0\n",
       "4742             2       NaN   1.0        1.0                1   NaN  275.0\n",
       "4913             2       NaN   1.0        1.0                1   NaN  186.0\n",
       "4935             2       NaN   1.0        1.0                1   NaN  269.0\n",
       "4950             2       NaN   1.0        1.0                2   NaN  225.0\n",
       "5069             2       NaN   1.0        1.0                1   NaN  209.0\n",
       "5184             2       NaN   1.0        1.0                1   NaN  209.0\n",
       "5237             2       NaN   1.0        1.0                1   NaN  209.0\n",
       "5777             2       NaN   1.0        1.0                2   1.0  175.0"
      ]
     },
     "execution_count": 15,
     "metadata": {},
     "output_type": "execute_result"
    }
   ],
   "source": [
    "df_listings_num[df_listings_num['bedrooms'].isnull()]\n"
   ]
  },
  {
   "cell_type": "code",
   "execution_count": 16,
   "metadata": {
    "scrolled": false
   },
   "outputs": [
    {
     "name": "stderr",
     "output_type": "stream",
     "text": [
      "/opt/anaconda3/lib/python3.7/site-packages/ipykernel_launcher.py:1: SettingWithCopyWarning: \n",
      "A value is trying to be set on a copy of a slice from a DataFrame.\n",
      "Try using .loc[row_indexer,col_indexer] = value instead\n",
      "\n",
      "See the caveats in the documentation: https://pandas.pydata.org/pandas-docs/stable/user_guide/indexing.html#returning-a-view-versus-a-copy\n",
      "  \"\"\"Entry point for launching an IPython kernel.\n"
     ]
    }
   ],
   "source": [
    "df_listings_num['accommodates'] = df_listings_num['accommodates'].astype(float)\n",
    "\n",
    "av_bedrooms_two = df_listings_num[(df_listings_num['accommodates'] == 2)]['bedrooms'].mean()\n",
    "av_bedrooms_four = df_listings_num[(df_listings_num['accommodates'] == 4)]['bedrooms'].mean()\n",
    "av_bedrooms_six = df_listings_num[(df_listings_num['accommodates'] == 6)]['bedrooms'].mean()"
   ]
  },
  {
   "cell_type": "markdown",
   "metadata": {},
   "source": [
    "Define a function that will impute the missing bedroom values with the mean bedrooms associated to the number the Air BnB accomodates."
   ]
  },
  {
   "cell_type": "code",
   "execution_count": 17,
   "metadata": {
    "scrolled": true
   },
   "outputs": [
    {
     "name": "stderr",
     "output_type": "stream",
     "text": [
      "/opt/anaconda3/lib/python3.7/site-packages/pandas/core/indexing.py:966: SettingWithCopyWarning: \n",
      "A value is trying to be set on a copy of a slice from a DataFrame.\n",
      "Try using .loc[row_indexer,col_indexer] = value instead\n",
      "\n",
      "See the caveats in the documentation: https://pandas.pydata.org/pandas-docs/stable/user_guide/indexing.html#returning-a-view-versus-a-copy\n",
      "  self.obj[item] = s\n"
     ]
    }
   ],
   "source": [
    "def impute_null(accomodates, avg_bedrooms):\n",
    "    \n",
    "    \n",
    "    '''\n",
    "    INPUT\n",
    "    Number of people the Air BnB can accomodate\n",
    "    The mean bedrooms for Air BnB accomodating x number of people\n",
    "    \n",
    "    OUTPUT\n",
    "    col - column with missing values imputed\n",
    "    \n",
    "    \n",
    "    Scans for the missing bedroom data, checks the number of accomodates \n",
    "    for each of the missing bedroom values and imputes it with the mean no. of bedrooms \n",
    "    for x no.of accomodates. \n",
    "    '''\n",
    "    \n",
    "    df_listings_num.loc[(df_listings_num['accommodates']==accomodates) & df_listings_num['bedrooms'].isnull(), 'bedrooms'] = avg_bedrooms\n",
    "\n",
    "impute_null(2,av_bedrooms_two)\n",
    "impute_null(4,av_bedrooms_four)\n",
    "impute_null(6,av_bedrooms_six)\n",
    "   \n",
    "\n",
    "    "
   ]
  },
  {
   "cell_type": "markdown",
   "metadata": {},
   "source": [
    "I will do the same imputation type for missing bathroom data that I did for missing bedroom data"
   ]
  },
  {
   "cell_type": "code",
   "execution_count": 18,
   "metadata": {},
   "outputs": [],
   "source": [
    "#Do the same for bathrooms\n",
    "av_bathrooms_one = df_listings_num[(df_listings_num['accommodates'] == 1)]['bathrooms'].mean()\n",
    "av_bathrooms_two = df_listings_num[(df_listings_num['accommodates'] == 2)]['bathrooms'].mean()\n",
    "av_bathrooms_three = df_listings_num[(df_listings_num['accommodates'] == 3)]['bathrooms'].mean()\n",
    "av_bathrooms_four = df_listings_num[(df_listings_num['accommodates'] == 4)]['bathrooms'].mean()\n",
    "av_bathrooms_six = df_listings_num[(df_listings_num['accommodates'] == 6)]['bathrooms'].mean()"
   ]
  },
  {
   "cell_type": "code",
   "execution_count": 19,
   "metadata": {},
   "outputs": [],
   "source": [
    "def impute_null2(accomodates, avg_bathrooms):\n",
    "    \n",
    "    '''\n",
    "    INPUT\n",
    "    Number of people the Air BnB can accomodate\n",
    "    The mean bathrooms for Air BnB accomodating x number of people\n",
    "    \n",
    "    OUTPUT\n",
    "    col - column with missing values imputed\n",
    "    \n",
    "    \n",
    "    Scans for the missing bathroom data, checks the number of accomodates \n",
    "    for each missing bathroom values and imputes it with the mean no. of bathrooms \n",
    "    for x no.of accomodates. \n",
    "    '''\n",
    "    \n",
    "    \n",
    "    df_listings_num.loc[(df_listings_num['accommodates']==accomodates) & df_listings_num['bathrooms'].isnull(), 'bathrooms'] = avg_bathrooms\n",
    "    \n",
    "    \n",
    "impute_null2(1,av_bathrooms_one)\n",
    "impute_null2(2,av_bathrooms_two)\n",
    "impute_null2(3,av_bathrooms_three)\n",
    "impute_null2(4,av_bathrooms_four)\n",
    "impute_null2(6,av_bathrooms_six)\n"
   ]
  },
  {
   "cell_type": "markdown",
   "metadata": {},
   "source": [
    "Now to impute missing beds data.... Given all the missing data on beds is those with one bedroom, I am going to assume that accomodation with one bedroom would usually have one bed and therefore, will fill missing data with 1.\n"
   ]
  },
  {
   "cell_type": "code",
   "execution_count": 20,
   "metadata": {
    "scrolled": true
   },
   "outputs": [
    {
     "data": {
      "text/html": [
       "<div>\n",
       "<style scoped>\n",
       "    .dataframe tbody tr th:only-of-type {\n",
       "        vertical-align: middle;\n",
       "    }\n",
       "\n",
       "    .dataframe tbody tr th {\n",
       "        vertical-align: top;\n",
       "    }\n",
       "\n",
       "    .dataframe thead th {\n",
       "        text-align: right;\n",
       "    }\n",
       "</style>\n",
       "<table border=\"1\" class=\"dataframe\">\n",
       "  <thead>\n",
       "    <tr style=\"text-align: right;\">\n",
       "      <th></th>\n",
       "      <th>accommodates</th>\n",
       "      <th>bedrooms</th>\n",
       "      <th>beds</th>\n",
       "      <th>bathrooms</th>\n",
       "      <th>guests_included</th>\n",
       "      <th>city</th>\n",
       "      <th>price</th>\n",
       "    </tr>\n",
       "  </thead>\n",
       "  <tbody>\n",
       "    <tr>\n",
       "      <th>1961</th>\n",
       "      <td>4.0</td>\n",
       "      <td>1.0</td>\n",
       "      <td>NaN</td>\n",
       "      <td>1.185042</td>\n",
       "      <td>1</td>\n",
       "      <td>0.0</td>\n",
       "      <td>280.0</td>\n",
       "    </tr>\n",
       "    <tr>\n",
       "      <th>4312</th>\n",
       "      <td>1.0</td>\n",
       "      <td>1.0</td>\n",
       "      <td>NaN</td>\n",
       "      <td>1.000000</td>\n",
       "      <td>1</td>\n",
       "      <td>1.0</td>\n",
       "      <td>99.0</td>\n",
       "    </tr>\n",
       "    <tr>\n",
       "      <th>4573</th>\n",
       "      <td>2.0</td>\n",
       "      <td>1.0</td>\n",
       "      <td>NaN</td>\n",
       "      <td>1.104839</td>\n",
       "      <td>1</td>\n",
       "      <td>NaN</td>\n",
       "      <td>99.0</td>\n",
       "    </tr>\n",
       "    <tr>\n",
       "      <th>4638</th>\n",
       "      <td>2.0</td>\n",
       "      <td>1.0</td>\n",
       "      <td>NaN</td>\n",
       "      <td>1.104839</td>\n",
       "      <td>1</td>\n",
       "      <td>NaN</td>\n",
       "      <td>60.0</td>\n",
       "    </tr>\n",
       "    <tr>\n",
       "      <th>4643</th>\n",
       "      <td>2.0</td>\n",
       "      <td>1.0</td>\n",
       "      <td>NaN</td>\n",
       "      <td>1.104839</td>\n",
       "      <td>1</td>\n",
       "      <td>NaN</td>\n",
       "      <td>60.0</td>\n",
       "    </tr>\n",
       "    <tr>\n",
       "      <th>4728</th>\n",
       "      <td>1.0</td>\n",
       "      <td>1.0</td>\n",
       "      <td>NaN</td>\n",
       "      <td>1.148766</td>\n",
       "      <td>1</td>\n",
       "      <td>1.0</td>\n",
       "      <td>53.0</td>\n",
       "    </tr>\n",
       "    <tr>\n",
       "      <th>6021</th>\n",
       "      <td>1.0</td>\n",
       "      <td>1.0</td>\n",
       "      <td>NaN</td>\n",
       "      <td>1.000000</td>\n",
       "      <td>1</td>\n",
       "      <td>1.0</td>\n",
       "      <td>80.0</td>\n",
       "    </tr>\n",
       "    <tr>\n",
       "      <th>6637</th>\n",
       "      <td>2.0</td>\n",
       "      <td>1.0</td>\n",
       "      <td>NaN</td>\n",
       "      <td>1.104839</td>\n",
       "      <td>1</td>\n",
       "      <td>NaN</td>\n",
       "      <td>57.0</td>\n",
       "    </tr>\n",
       "    <tr>\n",
       "      <th>6683</th>\n",
       "      <td>2.0</td>\n",
       "      <td>1.0</td>\n",
       "      <td>NaN</td>\n",
       "      <td>1.000000</td>\n",
       "      <td>1</td>\n",
       "      <td>NaN</td>\n",
       "      <td>60.0</td>\n",
       "    </tr>\n",
       "    <tr>\n",
       "      <th>7375</th>\n",
       "      <td>2.0</td>\n",
       "      <td>1.0</td>\n",
       "      <td>NaN</td>\n",
       "      <td>1.000000</td>\n",
       "      <td>1</td>\n",
       "      <td>1.0</td>\n",
       "      <td>60.0</td>\n",
       "    </tr>\n",
       "  </tbody>\n",
       "</table>\n",
       "</div>"
      ],
      "text/plain": [
       "      accommodates  bedrooms  beds  bathrooms  guests_included  city  price\n",
       "1961           4.0       1.0   NaN   1.185042                1   0.0  280.0\n",
       "4312           1.0       1.0   NaN   1.000000                1   1.0   99.0\n",
       "4573           2.0       1.0   NaN   1.104839                1   NaN   99.0\n",
       "4638           2.0       1.0   NaN   1.104839                1   NaN   60.0\n",
       "4643           2.0       1.0   NaN   1.104839                1   NaN   60.0\n",
       "4728           1.0       1.0   NaN   1.148766                1   1.0   53.0\n",
       "6021           1.0       1.0   NaN   1.000000                1   1.0   80.0\n",
       "6637           2.0       1.0   NaN   1.104839                1   NaN   57.0\n",
       "6683           2.0       1.0   NaN   1.000000                1   NaN   60.0\n",
       "7375           2.0       1.0   NaN   1.000000                1   1.0   60.0"
      ]
     },
     "execution_count": 20,
     "metadata": {},
     "output_type": "execute_result"
    }
   ],
   "source": [
    "df_listings_num[df_listings_num['beds'].isnull()]\n"
   ]
  },
  {
   "cell_type": "code",
   "execution_count": 21,
   "metadata": {
    "scrolled": false
   },
   "outputs": [
    {
     "name": "stderr",
     "output_type": "stream",
     "text": [
      "/opt/anaconda3/lib/python3.7/site-packages/ipykernel_launcher.py:1: SettingWithCopyWarning: \n",
      "A value is trying to be set on a copy of a slice from a DataFrame.\n",
      "Try using .loc[row_indexer,col_indexer] = value instead\n",
      "\n",
      "See the caveats in the documentation: https://pandas.pydata.org/pandas-docs/stable/user_guide/indexing.html#returning-a-view-versus-a-copy\n",
      "  \"\"\"Entry point for launching an IPython kernel.\n"
     ]
    }
   ],
   "source": [
    "df_listings_num['beds'] = df_listings_num['beds'].fillna(1,axis = 0)"
   ]
  },
  {
   "cell_type": "markdown",
   "metadata": {},
   "source": [
    "Next, I will remove all rows with null price data as these will not be useful in the predictive model. For missing data in the city column, we will wait until the categorical data has been dealt with first as there are so many missing values.\n",
    "\n",
    "\n"
   ]
  },
  {
   "cell_type": "code",
   "execution_count": 22,
   "metadata": {},
   "outputs": [],
   "source": [
    "df_listings_num = df_listings_num.dropna(subset = ['price'], how = 'any')"
   ]
  },
  {
   "cell_type": "code",
   "execution_count": 23,
   "metadata": {},
   "outputs": [
    {
     "data": {
      "text/plain": [
       "accommodates          0\n",
       "bedrooms              0\n",
       "beds                  0\n",
       "bathrooms             0\n",
       "guests_included       0\n",
       "city               1256\n",
       "price                 0\n",
       "dtype: int64"
      ]
     },
     "execution_count": 23,
     "metadata": {},
     "output_type": "execute_result"
    }
   ],
   "source": [
    "#Check all columns are free of null data, apart from city.\n",
    "df_listings_num.isnull().sum()"
   ]
  },
  {
   "cell_type": "code",
   "execution_count": 24,
   "metadata": {},
   "outputs": [],
   "source": [
    "#Take a look at the distribution of our price varibale\n"
   ]
  },
  {
   "cell_type": "markdown",
   "metadata": {},
   "source": [
    "**Step 2 : Dealing With Categorical Data**"
   ]
  },
  {
   "cell_type": "code",
   "execution_count": 25,
   "metadata": {
    "scrolled": true
   },
   "outputs": [
    {
     "data": {
      "text/plain": [
       "Index(['listing_url', 'last_scraped', 'name', 'summary', 'space',\n",
       "       'description', 'experiences_offered', 'neighborhood_overview', 'notes',\n",
       "       'transit', 'thumbnail_url', 'medium_url', 'picture_url',\n",
       "       'xl_picture_url', 'host_url', 'host_name', 'host_since',\n",
       "       'host_location', 'host_about', 'host_response_time',\n",
       "       'host_response_rate', 'host_acceptance_rate', 'host_is_superhost',\n",
       "       'host_thumbnail_url', 'host_picture_url', 'host_neighbourhood',\n",
       "       'host_verifications', 'host_has_profile_pic', 'host_identity_verified',\n",
       "       'street', 'neighbourhood', 'neighbourhood_cleansed',\n",
       "       'neighbourhood_group_cleansed', 'state', 'zipcode', 'market',\n",
       "       'smart_location', 'country_code', 'country', 'is_location_exact',\n",
       "       'property_type', 'room_type', 'bed_type', 'amenities', 'weekly_price',\n",
       "       'monthly_price', 'security_deposit', 'cleaning_fee', 'extra_people',\n",
       "       'calendar_updated', 'has_availability', 'calendar_last_scraped',\n",
       "       'first_review', 'last_review', 'requires_license', 'jurisdiction_names',\n",
       "       'instant_bookable', 'cancellation_policy',\n",
       "       'require_guest_profile_picture', 'require_guest_phone_verification',\n",
       "       'access', 'interaction', 'house_rules'],\n",
       "      dtype='object')"
      ]
     },
     "execution_count": 25,
     "metadata": {},
     "output_type": "execute_result"
    }
   ],
   "source": [
    "#Let's get a view of the columns with categorical data\n",
    "df_listings_cat = df_listings.select_dtypes(include = ['object'])\n",
    "df_listings_cat.columns"
   ]
  },
  {
   "cell_type": "markdown",
   "metadata": {},
   "source": [
    "Looking at these available columns, I feel like property_type, room_type and host_is_superhost are columns we can work with and are likely to impact on the overall price. From our previous work looking into superhosts v non superhosts, we know that this characteristic could be an impacting factor in the price of an Air BnB.\n"
   ]
  },
  {
   "cell_type": "code",
   "execution_count": 26,
   "metadata": {
    "scrolled": false
   },
   "outputs": [
    {
     "data": {
      "text/html": [
       "<div>\n",
       "<style scoped>\n",
       "    .dataframe tbody tr th:only-of-type {\n",
       "        vertical-align: middle;\n",
       "    }\n",
       "\n",
       "    .dataframe tbody tr th {\n",
       "        vertical-align: top;\n",
       "    }\n",
       "\n",
       "    .dataframe thead th {\n",
       "        text-align: right;\n",
       "    }\n",
       "</style>\n",
       "<table border=\"1\" class=\"dataframe\">\n",
       "  <thead>\n",
       "    <tr style=\"text-align: right;\">\n",
       "      <th></th>\n",
       "      <th>property_type</th>\n",
       "      <th>room_type</th>\n",
       "      <th>host_is_superhost</th>\n",
       "    </tr>\n",
       "  </thead>\n",
       "  <tbody>\n",
       "    <tr>\n",
       "      <th>0</th>\n",
       "      <td>Apartment</td>\n",
       "      <td>Entire home/apt</td>\n",
       "      <td>f</td>\n",
       "    </tr>\n",
       "    <tr>\n",
       "      <th>1</th>\n",
       "      <td>Apartment</td>\n",
       "      <td>Entire home/apt</td>\n",
       "      <td>t</td>\n",
       "    </tr>\n",
       "    <tr>\n",
       "      <th>2</th>\n",
       "      <td>House</td>\n",
       "      <td>Entire home/apt</td>\n",
       "      <td>f</td>\n",
       "    </tr>\n",
       "    <tr>\n",
       "      <th>3</th>\n",
       "      <td>Apartment</td>\n",
       "      <td>Entire home/apt</td>\n",
       "      <td>f</td>\n",
       "    </tr>\n",
       "    <tr>\n",
       "      <th>4</th>\n",
       "      <td>House</td>\n",
       "      <td>Entire home/apt</td>\n",
       "      <td>f</td>\n",
       "    </tr>\n",
       "    <tr>\n",
       "      <th>...</th>\n",
       "      <td>...</td>\n",
       "      <td>...</td>\n",
       "      <td>...</td>\n",
       "    </tr>\n",
       "    <tr>\n",
       "      <th>7398</th>\n",
       "      <td>Apartment</td>\n",
       "      <td>Private room</td>\n",
       "      <td>f</td>\n",
       "    </tr>\n",
       "    <tr>\n",
       "      <th>7399</th>\n",
       "      <td>Apartment</td>\n",
       "      <td>Private room</td>\n",
       "      <td>f</td>\n",
       "    </tr>\n",
       "    <tr>\n",
       "      <th>7400</th>\n",
       "      <td>Apartment</td>\n",
       "      <td>Entire home/apt</td>\n",
       "      <td>f</td>\n",
       "    </tr>\n",
       "    <tr>\n",
       "      <th>7401</th>\n",
       "      <td>Apartment</td>\n",
       "      <td>Private room</td>\n",
       "      <td>f</td>\n",
       "    </tr>\n",
       "    <tr>\n",
       "      <th>7402</th>\n",
       "      <td>Apartment</td>\n",
       "      <td>Private room</td>\n",
       "      <td>f</td>\n",
       "    </tr>\n",
       "  </tbody>\n",
       "</table>\n",
       "<p>7403 rows × 3 columns</p>\n",
       "</div>"
      ],
      "text/plain": [
       "     property_type        room_type host_is_superhost\n",
       "0        Apartment  Entire home/apt                 f\n",
       "1        Apartment  Entire home/apt                 t\n",
       "2            House  Entire home/apt                 f\n",
       "3        Apartment  Entire home/apt                 f\n",
       "4            House  Entire home/apt                 f\n",
       "...            ...              ...               ...\n",
       "7398     Apartment     Private room                 f\n",
       "7399     Apartment     Private room                 f\n",
       "7400     Apartment  Entire home/apt                 f\n",
       "7401     Apartment     Private room                 f\n",
       "7402     Apartment     Private room                 f\n",
       "\n",
       "[7403 rows x 3 columns]"
      ]
     },
     "execution_count": 26,
     "metadata": {},
     "output_type": "execute_result"
    }
   ],
   "source": [
    "#Create a new dataframe just including these three categorical columns and get a view on what this looks like.\n",
    "df_listings_cat = df_listings_cat[['property_type', 'room_type', 'host_is_superhost']]\n",
    "df_listings_cat\n",
    "\n",
    "\n",
    "\n"
   ]
  },
  {
   "cell_type": "code",
   "execution_count": 27,
   "metadata": {
    "scrolled": true
   },
   "outputs": [
    {
     "data": {
      "text/plain": [
       "property_type        4\n",
       "room_type            0\n",
       "host_is_superhost    2\n",
       "dtype: int64"
      ]
     },
     "execution_count": 27,
     "metadata": {},
     "output_type": "execute_result"
    }
   ],
   "source": [
    "#We can see there is only a small amount of missing data within these variables.\n",
    "df_listings_cat.isnull().sum()"
   ]
  },
  {
   "cell_type": "markdown",
   "metadata": {},
   "source": [
    "Let's start by cleaning the **property_type** column. The overwhelming majority of properties are either an Apartment or House."
   ]
  },
  {
   "cell_type": "code",
   "execution_count": 28,
   "metadata": {
    "scrolled": false
   },
   "outputs": [
    {
     "data": {
      "text/plain": [
       "<matplotlib.axes._subplots.AxesSubplot at 0x12687d510>"
      ]
     },
     "execution_count": 28,
     "metadata": {},
     "output_type": "execute_result"
    },
    {
     "data": {
      "image/png": "[encoded data removed]",
      "text/plain": [
       "<Figure size 432x288 with 1 Axes>"
      ]
     },
     "metadata": {
      "needs_background": "light"
     },
     "output_type": "display_data"
    }
   ],
   "source": [
    "property_type = df_listings_cat['property_type'].value_counts()\n",
    "property_type.plot(kind = 'bar')"
   ]
  },
  {
   "cell_type": "code",
   "execution_count": 29,
   "metadata": {},
   "outputs": [
    {
     "data": {
      "text/plain": [
       "Apartment          4320\n",
       "House              2295\n",
       "Condominium         322\n",
       "Townhouse           172\n",
       "Loft                 79\n",
       "Bed & Breakfast      78\n",
       "Other                39\n",
       "Cabin                21\n",
       "Boat                 20\n",
       "Camper/RV            14\n",
       "Bungalow             13\n",
       "Villa                 6\n",
       "Tent                  5\n",
       "Dorm                  4\n",
       "Entire Floor          4\n",
       "Treehouse             3\n",
       "Chalet                2\n",
       "Yurt                  1\n",
       "Guesthouse            1\n",
       "Name: property_type, dtype: int64"
      ]
     },
     "execution_count": 29,
     "metadata": {},
     "output_type": "execute_result"
    }
   ],
   "source": [
    "property_type"
   ]
  },
  {
   "cell_type": "markdown",
   "metadata": {},
   "source": [
    "As we will create dummy values out of the categorical columns, we do not want there to be too many columns in the categorical variable dataset. Therefore, we will replace the instances which occur rarely with 'other'. \n"
   ]
  },
  {
   "cell_type": "code",
   "execution_count": 30,
   "metadata": {},
   "outputs": [],
   "source": [
    "df_listings_cat['property_type'] = df_listings_cat['property_type'].replace(['Cabin','Boat','Camper/RV','Bungalow','Villa', 'Tent', 'Entire Floor', 'Dorm', 'Treehouse', 'Chalet', 'Yurt', 'Guesthouse'], 'Other')\n",
    "\n"
   ]
  },
  {
   "cell_type": "markdown",
   "metadata": {},
   "source": [
    "Now, let's deal with the missing data"
   ]
  },
  {
   "cell_type": "code",
   "execution_count": 31,
   "metadata": {
    "scrolled": true
   },
   "outputs": [
    {
     "data": {
      "text/html": [
       "<div>\n",
       "<style scoped>\n",
       "    .dataframe tbody tr th:only-of-type {\n",
       "        vertical-align: middle;\n",
       "    }\n",
       "\n",
       "    .dataframe tbody tr th {\n",
       "        vertical-align: top;\n",
       "    }\n",
       "\n",
       "    .dataframe thead th {\n",
       "        text-align: right;\n",
       "    }\n",
       "</style>\n",
       "<table border=\"1\" class=\"dataframe\">\n",
       "  <thead>\n",
       "    <tr style=\"text-align: right;\">\n",
       "      <th></th>\n",
       "      <th>property_type</th>\n",
       "      <th>room_type</th>\n",
       "      <th>host_is_superhost</th>\n",
       "    </tr>\n",
       "  </thead>\n",
       "  <tbody>\n",
       "    <tr>\n",
       "      <th>2184</th>\n",
       "      <td>NaN</td>\n",
       "      <td>Entire home/apt</td>\n",
       "      <td>f</td>\n",
       "    </tr>\n",
       "    <tr>\n",
       "      <th>5139</th>\n",
       "      <td>NaN</td>\n",
       "      <td>Entire home/apt</td>\n",
       "      <td>f</td>\n",
       "    </tr>\n",
       "    <tr>\n",
       "      <th>5879</th>\n",
       "      <td>NaN</td>\n",
       "      <td>Entire home/apt</td>\n",
       "      <td>f</td>\n",
       "    </tr>\n",
       "    <tr>\n",
       "      <th>7211</th>\n",
       "      <td>NaN</td>\n",
       "      <td>Private room</td>\n",
       "      <td>f</td>\n",
       "    </tr>\n",
       "  </tbody>\n",
       "</table>\n",
       "</div>"
      ],
      "text/plain": [
       "     property_type        room_type host_is_superhost\n",
       "2184           NaN  Entire home/apt                 f\n",
       "5139           NaN  Entire home/apt                 f\n",
       "5879           NaN  Entire home/apt                 f\n",
       "7211           NaN     Private room                 f"
      ]
     },
     "execution_count": 31,
     "metadata": {},
     "output_type": "execute_result"
    }
   ],
   "source": [
    "#Get a view of the missing data in the property_type column\n",
    "df_listings_cat[df_listings_cat['property_type'].isnull()]"
   ]
  },
  {
   "cell_type": "markdown",
   "metadata": {},
   "source": [
    "Let's impute these missing **property_type** values with the mode property type for the missing values associated **room_type**\n"
   ]
  },
  {
   "cell_type": "code",
   "execution_count": 32,
   "metadata": {},
   "outputs": [
    {
     "name": "stdout",
     "output_type": "stream",
     "text": [
      "Most common property type for Entire home/apt is :  0    Apartment\n",
      "dtype: object Most common property type for Private room is :  0    House\n",
      "dtype: object\n"
     ]
    }
   ],
   "source": [
    "print(\"Most common property type for Entire home/apt is : \", df_listings_cat[df_listings_cat['room_type'] == 'Entire home/apt']['property_type'].mode(), \n",
    "      \n",
    "      \"Most common property type for Private room is : \", df_listings_cat[df_listings_cat['room_type'] == 'Private room']['property_type'].mode())"
   ]
  },
  {
   "cell_type": "markdown",
   "metadata": {},
   "source": [
    "We have found out that the most common property type for an Entire Home/ Apt is an apartment and the most common property type for a private room is a house, so let us impute the missing values with this information and then move onto **room_type**."
   ]
  },
  {
   "cell_type": "code",
   "execution_count": 33,
   "metadata": {},
   "outputs": [],
   "source": [
    "for row in df_listings_cat[\"room_type\"]:\n",
    "    \n",
    "    if row == \"Entire home/apt\":\n",
    "        df_listings_cat[\"property_type\"] = df_listings_cat[\"property_type\"].fillna('Apartment', axis = 0)\n",
    "    else:\n",
    "        df_listings_cat[\"property_type\"] = df_listings_cat[\"property_type\"].fillna('House', axis = 0)"
   ]
  },
  {
   "cell_type": "markdown",
   "metadata": {},
   "source": [
    "**room_type** has no obscure values or missing data so this column can be left as it is."
   ]
  },
  {
   "cell_type": "code",
   "execution_count": 34,
   "metadata": {
    "scrolled": true
   },
   "outputs": [
    {
     "data": {
      "text/plain": [
       "<matplotlib.axes._subplots.AxesSubplot at 0x131253990>"
      ]
     },
     "execution_count": 34,
     "metadata": {},
     "output_type": "execute_result"
    },
    {
     "data": {
      "image/png": "[encoded data removed]",
      "text/plain": [
       "<Figure size 432x288 with 1 Axes>"
      ]
     },
     "metadata": {
      "needs_background": "light"
     },
     "output_type": "display_data"
    }
   ],
   "source": [
    "room_type = df_listings_cat['room_type'].value_counts()\n",
    "room_type.plot(kind = 'bar')"
   ]
  },
  {
   "cell_type": "markdown",
   "metadata": {},
   "source": [
    "**host_is_superhost** has two lots of missing data, as most of the hosts are non superhosts, we will just assume that the missing data is from non superhosts."
   ]
  },
  {
   "cell_type": "code",
   "execution_count": 35,
   "metadata": {},
   "outputs": [
    {
     "data": {
      "text/html": [
       "<div>\n",
       "<style scoped>\n",
       "    .dataframe tbody tr th:only-of-type {\n",
       "        vertical-align: middle;\n",
       "    }\n",
       "\n",
       "    .dataframe tbody tr th {\n",
       "        vertical-align: top;\n",
       "    }\n",
       "\n",
       "    .dataframe thead th {\n",
       "        text-align: right;\n",
       "    }\n",
       "</style>\n",
       "<table border=\"1\" class=\"dataframe\">\n",
       "  <thead>\n",
       "    <tr style=\"text-align: right;\">\n",
       "      <th></th>\n",
       "      <th>property_type</th>\n",
       "      <th>room_type</th>\n",
       "      <th>host_is_superhost</th>\n",
       "    </tr>\n",
       "  </thead>\n",
       "  <tbody>\n",
       "    <tr>\n",
       "      <th>1297</th>\n",
       "      <td>Apartment</td>\n",
       "      <td>Entire home/apt</td>\n",
       "      <td>NaN</td>\n",
       "    </tr>\n",
       "    <tr>\n",
       "      <th>1419</th>\n",
       "      <td>Apartment</td>\n",
       "      <td>Entire home/apt</td>\n",
       "      <td>NaN</td>\n",
       "    </tr>\n",
       "  </tbody>\n",
       "</table>\n",
       "</div>"
      ],
      "text/plain": [
       "     property_type        room_type host_is_superhost\n",
       "1297     Apartment  Entire home/apt               NaN\n",
       "1419     Apartment  Entire home/apt               NaN"
      ]
     },
     "execution_count": 35,
     "metadata": {},
     "output_type": "execute_result"
    }
   ],
   "source": [
    "df_listings_cat[df_listings_cat['host_is_superhost'].isnull()]"
   ]
  },
  {
   "cell_type": "code",
   "execution_count": 36,
   "metadata": {},
   "outputs": [
    {
     "data": {
      "text/plain": [
       "f    0.83966\n",
       "t    0.16007\n",
       "Name: host_is_superhost, dtype: float64"
      ]
     },
     "execution_count": 36,
     "metadata": {},
     "output_type": "execute_result"
    }
   ],
   "source": [
    "#84% are non superhosts so missing data likely to be that of non superhost.\n",
    "df_listings_cat['host_is_superhost'].value_counts()/len(df_listings_cat)"
   ]
  },
  {
   "cell_type": "code",
   "execution_count": 37,
   "metadata": {},
   "outputs": [],
   "source": [
    "#Impute this missing data will superhost = false.\n",
    "df_listings_cat['host_is_superhost'] = df_listings_cat['host_is_superhost'].fillna('f', axis = 0)"
   ]
  },
  {
   "cell_type": "markdown",
   "metadata": {},
   "source": [
    "Now that the categorical columns we are working with are false, we can turn the categorical variables into dummy variables in order for them to be accepted by a predictive model.\n"
   ]
  },
  {
   "cell_type": "code",
   "execution_count": 38,
   "metadata": {},
   "outputs": [],
   "source": [
    "df_listings_cat_dummy = pd.get_dummies(df_listings_cat)\n"
   ]
  },
  {
   "cell_type": "code",
   "execution_count": 39,
   "metadata": {
    "scrolled": true
   },
   "outputs": [
    {
     "data": {
      "text/html": [
       "<div>\n",
       "<style scoped>\n",
       "    .dataframe tbody tr th:only-of-type {\n",
       "        vertical-align: middle;\n",
       "    }\n",
       "\n",
       "    .dataframe tbody tr th {\n",
       "        vertical-align: top;\n",
       "    }\n",
       "\n",
       "    .dataframe thead th {\n",
       "        text-align: right;\n",
       "    }\n",
       "</style>\n",
       "<table border=\"1\" class=\"dataframe\">\n",
       "  <thead>\n",
       "    <tr style=\"text-align: right;\">\n",
       "      <th></th>\n",
       "      <th>property_type_Apartment</th>\n",
       "      <th>property_type_Bed &amp; Breakfast</th>\n",
       "      <th>property_type_Condominium</th>\n",
       "      <th>property_type_House</th>\n",
       "      <th>property_type_Loft</th>\n",
       "      <th>property_type_Other</th>\n",
       "      <th>property_type_Townhouse</th>\n",
       "      <th>room_type_Entire home/apt</th>\n",
       "      <th>room_type_Private room</th>\n",
       "      <th>room_type_Shared room</th>\n",
       "      <th>host_is_superhost_f</th>\n",
       "      <th>host_is_superhost_t</th>\n",
       "    </tr>\n",
       "  </thead>\n",
       "  <tbody>\n",
       "    <tr>\n",
       "      <th>0</th>\n",
       "      <td>1</td>\n",
       "      <td>0</td>\n",
       "      <td>0</td>\n",
       "      <td>0</td>\n",
       "      <td>0</td>\n",
       "      <td>0</td>\n",
       "      <td>0</td>\n",
       "      <td>1</td>\n",
       "      <td>0</td>\n",
       "      <td>0</td>\n",
       "      <td>1</td>\n",
       "      <td>0</td>\n",
       "    </tr>\n",
       "    <tr>\n",
       "      <th>1</th>\n",
       "      <td>1</td>\n",
       "      <td>0</td>\n",
       "      <td>0</td>\n",
       "      <td>0</td>\n",
       "      <td>0</td>\n",
       "      <td>0</td>\n",
       "      <td>0</td>\n",
       "      <td>1</td>\n",
       "      <td>0</td>\n",
       "      <td>0</td>\n",
       "      <td>0</td>\n",
       "      <td>1</td>\n",
       "    </tr>\n",
       "    <tr>\n",
       "      <th>2</th>\n",
       "      <td>0</td>\n",
       "      <td>0</td>\n",
       "      <td>0</td>\n",
       "      <td>1</td>\n",
       "      <td>0</td>\n",
       "      <td>0</td>\n",
       "      <td>0</td>\n",
       "      <td>1</td>\n",
       "      <td>0</td>\n",
       "      <td>0</td>\n",
       "      <td>1</td>\n",
       "      <td>0</td>\n",
       "    </tr>\n",
       "    <tr>\n",
       "      <th>3</th>\n",
       "      <td>1</td>\n",
       "      <td>0</td>\n",
       "      <td>0</td>\n",
       "      <td>0</td>\n",
       "      <td>0</td>\n",
       "      <td>0</td>\n",
       "      <td>0</td>\n",
       "      <td>1</td>\n",
       "      <td>0</td>\n",
       "      <td>0</td>\n",
       "      <td>1</td>\n",
       "      <td>0</td>\n",
       "    </tr>\n",
       "    <tr>\n",
       "      <th>4</th>\n",
       "      <td>0</td>\n",
       "      <td>0</td>\n",
       "      <td>0</td>\n",
       "      <td>1</td>\n",
       "      <td>0</td>\n",
       "      <td>0</td>\n",
       "      <td>0</td>\n",
       "      <td>1</td>\n",
       "      <td>0</td>\n",
       "      <td>0</td>\n",
       "      <td>1</td>\n",
       "      <td>0</td>\n",
       "    </tr>\n",
       "    <tr>\n",
       "      <th>...</th>\n",
       "      <td>...</td>\n",
       "      <td>...</td>\n",
       "      <td>...</td>\n",
       "      <td>...</td>\n",
       "      <td>...</td>\n",
       "      <td>...</td>\n",
       "      <td>...</td>\n",
       "      <td>...</td>\n",
       "      <td>...</td>\n",
       "      <td>...</td>\n",
       "      <td>...</td>\n",
       "      <td>...</td>\n",
       "    </tr>\n",
       "    <tr>\n",
       "      <th>7398</th>\n",
       "      <td>1</td>\n",
       "      <td>0</td>\n",
       "      <td>0</td>\n",
       "      <td>0</td>\n",
       "      <td>0</td>\n",
       "      <td>0</td>\n",
       "      <td>0</td>\n",
       "      <td>0</td>\n",
       "      <td>1</td>\n",
       "      <td>0</td>\n",
       "      <td>1</td>\n",
       "      <td>0</td>\n",
       "    </tr>\n",
       "    <tr>\n",
       "      <th>7399</th>\n",
       "      <td>1</td>\n",
       "      <td>0</td>\n",
       "      <td>0</td>\n",
       "      <td>0</td>\n",
       "      <td>0</td>\n",
       "      <td>0</td>\n",
       "      <td>0</td>\n",
       "      <td>0</td>\n",
       "      <td>1</td>\n",
       "      <td>0</td>\n",
       "      <td>1</td>\n",
       "      <td>0</td>\n",
       "    </tr>\n",
       "    <tr>\n",
       "      <th>7400</th>\n",
       "      <td>1</td>\n",
       "      <td>0</td>\n",
       "      <td>0</td>\n",
       "      <td>0</td>\n",
       "      <td>0</td>\n",
       "      <td>0</td>\n",
       "      <td>0</td>\n",
       "      <td>1</td>\n",
       "      <td>0</td>\n",
       "      <td>0</td>\n",
       "      <td>1</td>\n",
       "      <td>0</td>\n",
       "    </tr>\n",
       "    <tr>\n",
       "      <th>7401</th>\n",
       "      <td>1</td>\n",
       "      <td>0</td>\n",
       "      <td>0</td>\n",
       "      <td>0</td>\n",
       "      <td>0</td>\n",
       "      <td>0</td>\n",
       "      <td>0</td>\n",
       "      <td>0</td>\n",
       "      <td>1</td>\n",
       "      <td>0</td>\n",
       "      <td>1</td>\n",
       "      <td>0</td>\n",
       "    </tr>\n",
       "    <tr>\n",
       "      <th>7402</th>\n",
       "      <td>1</td>\n",
       "      <td>0</td>\n",
       "      <td>0</td>\n",
       "      <td>0</td>\n",
       "      <td>0</td>\n",
       "      <td>0</td>\n",
       "      <td>0</td>\n",
       "      <td>0</td>\n",
       "      <td>1</td>\n",
       "      <td>0</td>\n",
       "      <td>1</td>\n",
       "      <td>0</td>\n",
       "    </tr>\n",
       "  </tbody>\n",
       "</table>\n",
       "<p>7403 rows × 12 columns</p>\n",
       "</div>"
      ],
      "text/plain": [
       "      property_type_Apartment  property_type_Bed & Breakfast  \\\n",
       "0                           1                              0   \n",
       "1                           1                              0   \n",
       "2                           0                              0   \n",
       "3                           1                              0   \n",
       "4                           0                              0   \n",
       "...                       ...                            ...   \n",
       "7398                        1                              0   \n",
       "7399                        1                              0   \n",
       "7400                        1                              0   \n",
       "7401                        1                              0   \n",
       "7402                        1                              0   \n",
       "\n",
       "      property_type_Condominium  property_type_House  property_type_Loft  \\\n",
       "0                             0                    0                   0   \n",
       "1                             0                    0                   0   \n",
       "2                             0                    1                   0   \n",
       "3                             0                    0                   0   \n",
       "4                             0                    1                   0   \n",
       "...                         ...                  ...                 ...   \n",
       "7398                          0                    0                   0   \n",
       "7399                          0                    0                   0   \n",
       "7400                          0                    0                   0   \n",
       "7401                          0                    0                   0   \n",
       "7402                          0                    0                   0   \n",
       "\n",
       "      property_type_Other  property_type_Townhouse  room_type_Entire home/apt  \\\n",
       "0                       0                        0                          1   \n",
       "1                       0                        0                          1   \n",
       "2                       0                        0                          1   \n",
       "3                       0                        0                          1   \n",
       "4                       0                        0                          1   \n",
       "...                   ...                      ...                        ...   \n",
       "7398                    0                        0                          0   \n",
       "7399                    0                        0                          0   \n",
       "7400                    0                        0                          1   \n",
       "7401                    0                        0                          0   \n",
       "7402                    0                        0                          0   \n",
       "\n",
       "      room_type_Private room  room_type_Shared room  host_is_superhost_f  \\\n",
       "0                          0                      0                    1   \n",
       "1                          0                      0                    0   \n",
       "2                          0                      0                    1   \n",
       "3                          0                      0                    1   \n",
       "4                          0                      0                    1   \n",
       "...                      ...                    ...                  ...   \n",
       "7398                       1                      0                    1   \n",
       "7399                       1                      0                    1   \n",
       "7400                       0                      0                    1   \n",
       "7401                       1                      0                    1   \n",
       "7402                       1                      0                    1   \n",
       "\n",
       "      host_is_superhost_t  \n",
       "0                       0  \n",
       "1                       1  \n",
       "2                       0  \n",
       "3                       0  \n",
       "4                       0  \n",
       "...                   ...  \n",
       "7398                    0  \n",
       "7399                    0  \n",
       "7400                    0  \n",
       "7401                    0  \n",
       "7402                    0  \n",
       "\n",
       "[7403 rows x 12 columns]"
      ]
     },
     "execution_count": 39,
     "metadata": {},
     "output_type": "execute_result"
    }
   ],
   "source": [
    "#Take a view of our new dummy data\n",
    "df_listings_cat_dummy"
   ]
  },
  {
   "cell_type": "markdown",
   "metadata": {},
   "source": [
    "**Step 3 : Combine the categorical and numerical datasets and input them into a predictive model.**"
   ]
  },
  {
   "cell_type": "code",
   "execution_count": 40,
   "metadata": {
    "scrolled": true
   },
   "outputs": [],
   "source": [
    "#Combine the two datasets\n",
    "combined_data = pd.merge(df_listings_num,df_listings_cat_dummy, left_index = True, right_index = True)\n",
    "combined_data = combined_data.reset_index(drop = True)"
   ]
  },
  {
   "cell_type": "code",
   "execution_count": 41,
   "metadata": {},
   "outputs": [],
   "source": [
    "#Now drop remaining rows from the city column\n",
    "combined_data = combined_data.dropna(subset = ['city'], how = 'any')"
   ]
  },
  {
   "cell_type": "code",
   "execution_count": 42,
   "metadata": {},
   "outputs": [],
   "source": [
    "#reset the index so the row numbers are correct.\n",
    "combined_data = combined_data.reset_index(drop = True)"
   ]
  },
  {
   "cell_type": "code",
   "execution_count": 43,
   "metadata": {
    "scrolled": false
   },
   "outputs": [
    {
     "data": {
      "text/html": [
       "<div>\n",
       "<style scoped>\n",
       "    .dataframe tbody tr th:only-of-type {\n",
       "        vertical-align: middle;\n",
       "    }\n",
       "\n",
       "    .dataframe tbody tr th {\n",
       "        vertical-align: top;\n",
       "    }\n",
       "\n",
       "    .dataframe thead th {\n",
       "        text-align: right;\n",
       "    }\n",
       "</style>\n",
       "<table border=\"1\" class=\"dataframe\">\n",
       "  <thead>\n",
       "    <tr style=\"text-align: right;\">\n",
       "      <th></th>\n",
       "      <th>accommodates</th>\n",
       "      <th>bedrooms</th>\n",
       "      <th>beds</th>\n",
       "      <th>bathrooms</th>\n",
       "      <th>guests_included</th>\n",
       "      <th>city</th>\n",
       "      <th>price</th>\n",
       "      <th>property_type_Apartment</th>\n",
       "      <th>property_type_Bed &amp; Breakfast</th>\n",
       "      <th>property_type_Condominium</th>\n",
       "      <th>property_type_House</th>\n",
       "      <th>property_type_Loft</th>\n",
       "      <th>property_type_Other</th>\n",
       "      <th>property_type_Townhouse</th>\n",
       "      <th>room_type_Entire home/apt</th>\n",
       "      <th>room_type_Private room</th>\n",
       "      <th>room_type_Shared room</th>\n",
       "      <th>host_is_superhost_f</th>\n",
       "      <th>host_is_superhost_t</th>\n",
       "    </tr>\n",
       "  </thead>\n",
       "  <tbody>\n",
       "    <tr>\n",
       "      <th>0</th>\n",
       "      <td>4.0</td>\n",
       "      <td>1.0</td>\n",
       "      <td>1.0</td>\n",
       "      <td>1.0</td>\n",
       "      <td>2</td>\n",
       "      <td>0.0</td>\n",
       "      <td>85.0</td>\n",
       "      <td>1</td>\n",
       "      <td>0</td>\n",
       "      <td>0</td>\n",
       "      <td>0</td>\n",
       "      <td>0</td>\n",
       "      <td>0</td>\n",
       "      <td>0</td>\n",
       "      <td>1</td>\n",
       "      <td>0</td>\n",
       "      <td>0</td>\n",
       "      <td>1</td>\n",
       "      <td>0</td>\n",
       "    </tr>\n",
       "    <tr>\n",
       "      <th>1</th>\n",
       "      <td>4.0</td>\n",
       "      <td>1.0</td>\n",
       "      <td>1.0</td>\n",
       "      <td>1.0</td>\n",
       "      <td>1</td>\n",
       "      <td>0.0</td>\n",
       "      <td>150.0</td>\n",
       "      <td>1</td>\n",
       "      <td>0</td>\n",
       "      <td>0</td>\n",
       "      <td>0</td>\n",
       "      <td>0</td>\n",
       "      <td>0</td>\n",
       "      <td>0</td>\n",
       "      <td>1</td>\n",
       "      <td>0</td>\n",
       "      <td>0</td>\n",
       "      <td>0</td>\n",
       "      <td>1</td>\n",
       "    </tr>\n",
       "    <tr>\n",
       "      <th>2</th>\n",
       "      <td>11.0</td>\n",
       "      <td>5.0</td>\n",
       "      <td>7.0</td>\n",
       "      <td>4.5</td>\n",
       "      <td>10</td>\n",
       "      <td>0.0</td>\n",
       "      <td>975.0</td>\n",
       "      <td>0</td>\n",
       "      <td>0</td>\n",
       "      <td>0</td>\n",
       "      <td>1</td>\n",
       "      <td>0</td>\n",
       "      <td>0</td>\n",
       "      <td>0</td>\n",
       "      <td>1</td>\n",
       "      <td>0</td>\n",
       "      <td>0</td>\n",
       "      <td>1</td>\n",
       "      <td>0</td>\n",
       "    </tr>\n",
       "    <tr>\n",
       "      <th>3</th>\n",
       "      <td>3.0</td>\n",
       "      <td>0.0</td>\n",
       "      <td>2.0</td>\n",
       "      <td>1.0</td>\n",
       "      <td>1</td>\n",
       "      <td>0.0</td>\n",
       "      <td>100.0</td>\n",
       "      <td>1</td>\n",
       "      <td>0</td>\n",
       "      <td>0</td>\n",
       "      <td>0</td>\n",
       "      <td>0</td>\n",
       "      <td>0</td>\n",
       "      <td>0</td>\n",
       "      <td>1</td>\n",
       "      <td>0</td>\n",
       "      <td>0</td>\n",
       "      <td>1</td>\n",
       "      <td>0</td>\n",
       "    </tr>\n",
       "    <tr>\n",
       "      <th>4</th>\n",
       "      <td>6.0</td>\n",
       "      <td>3.0</td>\n",
       "      <td>3.0</td>\n",
       "      <td>2.0</td>\n",
       "      <td>6</td>\n",
       "      <td>0.0</td>\n",
       "      <td>450.0</td>\n",
       "      <td>0</td>\n",
       "      <td>0</td>\n",
       "      <td>0</td>\n",
       "      <td>1</td>\n",
       "      <td>0</td>\n",
       "      <td>0</td>\n",
       "      <td>0</td>\n",
       "      <td>1</td>\n",
       "      <td>0</td>\n",
       "      <td>0</td>\n",
       "      <td>1</td>\n",
       "      <td>0</td>\n",
       "    </tr>\n",
       "    <tr>\n",
       "      <th>...</th>\n",
       "      <td>...</td>\n",
       "      <td>...</td>\n",
       "      <td>...</td>\n",
       "      <td>...</td>\n",
       "      <td>...</td>\n",
       "      <td>...</td>\n",
       "      <td>...</td>\n",
       "      <td>...</td>\n",
       "      <td>...</td>\n",
       "      <td>...</td>\n",
       "      <td>...</td>\n",
       "      <td>...</td>\n",
       "      <td>...</td>\n",
       "      <td>...</td>\n",
       "      <td>...</td>\n",
       "      <td>...</td>\n",
       "      <td>...</td>\n",
       "      <td>...</td>\n",
       "      <td>...</td>\n",
       "    </tr>\n",
       "    <tr>\n",
       "      <th>6129</th>\n",
       "      <td>1.0</td>\n",
       "      <td>1.0</td>\n",
       "      <td>1.0</td>\n",
       "      <td>1.0</td>\n",
       "      <td>1</td>\n",
       "      <td>1.0</td>\n",
       "      <td>85.0</td>\n",
       "      <td>0</td>\n",
       "      <td>0</td>\n",
       "      <td>0</td>\n",
       "      <td>1</td>\n",
       "      <td>0</td>\n",
       "      <td>0</td>\n",
       "      <td>0</td>\n",
       "      <td>0</td>\n",
       "      <td>1</td>\n",
       "      <td>0</td>\n",
       "      <td>1</td>\n",
       "      <td>0</td>\n",
       "    </tr>\n",
       "    <tr>\n",
       "      <th>6130</th>\n",
       "      <td>2.0</td>\n",
       "      <td>1.0</td>\n",
       "      <td>1.0</td>\n",
       "      <td>1.0</td>\n",
       "      <td>1</td>\n",
       "      <td>1.0</td>\n",
       "      <td>100.0</td>\n",
       "      <td>0</td>\n",
       "      <td>0</td>\n",
       "      <td>1</td>\n",
       "      <td>0</td>\n",
       "      <td>0</td>\n",
       "      <td>0</td>\n",
       "      <td>0</td>\n",
       "      <td>0</td>\n",
       "      <td>1</td>\n",
       "      <td>0</td>\n",
       "      <td>1</td>\n",
       "      <td>0</td>\n",
       "    </tr>\n",
       "    <tr>\n",
       "      <th>6131</th>\n",
       "      <td>3.0</td>\n",
       "      <td>1.0</td>\n",
       "      <td>1.0</td>\n",
       "      <td>1.0</td>\n",
       "      <td>1</td>\n",
       "      <td>1.0</td>\n",
       "      <td>69.0</td>\n",
       "      <td>1</td>\n",
       "      <td>0</td>\n",
       "      <td>0</td>\n",
       "      <td>0</td>\n",
       "      <td>0</td>\n",
       "      <td>0</td>\n",
       "      <td>0</td>\n",
       "      <td>0</td>\n",
       "      <td>1</td>\n",
       "      <td>0</td>\n",
       "      <td>1</td>\n",
       "      <td>0</td>\n",
       "    </tr>\n",
       "    <tr>\n",
       "      <th>6132</th>\n",
       "      <td>2.0</td>\n",
       "      <td>1.0</td>\n",
       "      <td>1.0</td>\n",
       "      <td>1.0</td>\n",
       "      <td>1</td>\n",
       "      <td>1.0</td>\n",
       "      <td>65.0</td>\n",
       "      <td>1</td>\n",
       "      <td>0</td>\n",
       "      <td>0</td>\n",
       "      <td>0</td>\n",
       "      <td>0</td>\n",
       "      <td>0</td>\n",
       "      <td>0</td>\n",
       "      <td>0</td>\n",
       "      <td>1</td>\n",
       "      <td>0</td>\n",
       "      <td>1</td>\n",
       "      <td>0</td>\n",
       "    </tr>\n",
       "    <tr>\n",
       "      <th>6133</th>\n",
       "      <td>2.0</td>\n",
       "      <td>1.0</td>\n",
       "      <td>1.0</td>\n",
       "      <td>1.0</td>\n",
       "      <td>1</td>\n",
       "      <td>1.0</td>\n",
       "      <td>65.0</td>\n",
       "      <td>1</td>\n",
       "      <td>0</td>\n",
       "      <td>0</td>\n",
       "      <td>0</td>\n",
       "      <td>0</td>\n",
       "      <td>0</td>\n",
       "      <td>0</td>\n",
       "      <td>0</td>\n",
       "      <td>1</td>\n",
       "      <td>0</td>\n",
       "      <td>1</td>\n",
       "      <td>0</td>\n",
       "    </tr>\n",
       "  </tbody>\n",
       "</table>\n",
       "<p>6134 rows × 19 columns</p>\n",
       "</div>"
      ],
      "text/plain": [
       "      accommodates  bedrooms  beds  bathrooms  guests_included  city  price  \\\n",
       "0              4.0       1.0   1.0        1.0                2   0.0   85.0   \n",
       "1              4.0       1.0   1.0        1.0                1   0.0  150.0   \n",
       "2             11.0       5.0   7.0        4.5               10   0.0  975.0   \n",
       "3              3.0       0.0   2.0        1.0                1   0.0  100.0   \n",
       "4              6.0       3.0   3.0        2.0                6   0.0  450.0   \n",
       "...            ...       ...   ...        ...              ...   ...    ...   \n",
       "6129           1.0       1.0   1.0        1.0                1   1.0   85.0   \n",
       "6130           2.0       1.0   1.0        1.0                1   1.0  100.0   \n",
       "6131           3.0       1.0   1.0        1.0                1   1.0   69.0   \n",
       "6132           2.0       1.0   1.0        1.0                1   1.0   65.0   \n",
       "6133           2.0       1.0   1.0        1.0                1   1.0   65.0   \n",
       "\n",
       "      property_type_Apartment  property_type_Bed & Breakfast  \\\n",
       "0                           1                              0   \n",
       "1                           1                              0   \n",
       "2                           0                              0   \n",
       "3                           1                              0   \n",
       "4                           0                              0   \n",
       "...                       ...                            ...   \n",
       "6129                        0                              0   \n",
       "6130                        0                              0   \n",
       "6131                        1                              0   \n",
       "6132                        1                              0   \n",
       "6133                        1                              0   \n",
       "\n",
       "      property_type_Condominium  property_type_House  property_type_Loft  \\\n",
       "0                             0                    0                   0   \n",
       "1                             0                    0                   0   \n",
       "2                             0                    1                   0   \n",
       "3                             0                    0                   0   \n",
       "4                             0                    1                   0   \n",
       "...                         ...                  ...                 ...   \n",
       "6129                          0                    1                   0   \n",
       "6130                          1                    0                   0   \n",
       "6131                          0                    0                   0   \n",
       "6132                          0                    0                   0   \n",
       "6133                          0                    0                   0   \n",
       "\n",
       "      property_type_Other  property_type_Townhouse  room_type_Entire home/apt  \\\n",
       "0                       0                        0                          1   \n",
       "1                       0                        0                          1   \n",
       "2                       0                        0                          1   \n",
       "3                       0                        0                          1   \n",
       "4                       0                        0                          1   \n",
       "...                   ...                      ...                        ...   \n",
       "6129                    0                        0                          0   \n",
       "6130                    0                        0                          0   \n",
       "6131                    0                        0                          0   \n",
       "6132                    0                        0                          0   \n",
       "6133                    0                        0                          0   \n",
       "\n",
       "      room_type_Private room  room_type_Shared room  host_is_superhost_f  \\\n",
       "0                          0                      0                    1   \n",
       "1                          0                      0                    0   \n",
       "2                          0                      0                    1   \n",
       "3                          0                      0                    1   \n",
       "4                          0                      0                    1   \n",
       "...                      ...                    ...                  ...   \n",
       "6129                       1                      0                    1   \n",
       "6130                       1                      0                    1   \n",
       "6131                       1                      0                    1   \n",
       "6132                       1                      0                    1   \n",
       "6133                       1                      0                    1   \n",
       "\n",
       "      host_is_superhost_t  \n",
       "0                       0  \n",
       "1                       1  \n",
       "2                       0  \n",
       "3                       0  \n",
       "4                       0  \n",
       "...                   ...  \n",
       "6129                    0  \n",
       "6130                    0  \n",
       "6131                    0  \n",
       "6132                    0  \n",
       "6133                    0  \n",
       "\n",
       "[6134 rows x 19 columns]"
      ]
     },
     "execution_count": 43,
     "metadata": {},
     "output_type": "execute_result"
    }
   ],
   "source": [
    "#Take a view at the final dataset, which now has 6134 rows due to dropping the missing city columns.\n",
    "combined_data"
   ]
  },
  {
   "cell_type": "code",
   "execution_count": 44,
   "metadata": {},
   "outputs": [],
   "source": [
    "#Now, let's take a look at our target variable, price."
   ]
  },
  {
   "cell_type": "code",
   "execution_count": 45,
   "metadata": {},
   "outputs": [
    {
     "data": {
      "image/png": "[encoded data removed]",
      "text/plain": [
       "<Figure size 432x288 with 1 Axes>"
      ]
     },
     "metadata": {
      "needs_background": "light"
     },
     "output_type": "display_data"
    }
   ],
   "source": [
    "dist = sns.distplot(combined_data['price'])"
   ]
  },
  {
   "cell_type": "code",
   "execution_count": 46,
   "metadata": {},
   "outputs": [],
   "source": [
    "#Most prices under below the £200 a night mark. #We have some outliers above the £400 mark."
   ]
  },
  {
   "cell_type": "markdown",
   "metadata": {},
   "source": [
    "Now that our data is combined, we can start creating training and testing datasets to be inputted into a random forest model."
   ]
  },
  {
   "cell_type": "code",
   "execution_count": 47,
   "metadata": {},
   "outputs": [],
   "source": [
    "from sklearn.linear_model import LinearRegression\n",
    "from sklearn.model_selection import train_test_split\n",
    "from sklearn.metrics import r2_score, mean_squared_error\n",
    "from sklearn.ensemble import RandomForestRegressor\n",
    "\n",
    "# For Validation\n",
    "from sklearn.metrics import mean_squared_error, accuracy_score"
   ]
  },
  {
   "cell_type": "markdown",
   "metadata": {},
   "source": [
    "Create the random forest model"
   ]
  },
  {
   "cell_type": "code",
   "execution_count": 48,
   "metadata": {
    "scrolled": false
   },
   "outputs": [
    {
     "name": "stderr",
     "output_type": "stream",
     "text": [
      "/opt/anaconda3/lib/python3.7/site-packages/ipykernel_launcher.py:12: DataConversionWarning: A column-vector y was passed when a 1d array was expected. Please change the shape of y to (n_samples,), for example using ravel().\n",
      "  if sys.path[0] == '':\n"
     ]
    },
    {
     "name": "stdout",
     "output_type": "stream",
     "text": [
      "Train Score: 0.8\n",
      "Test score: 0.523\n"
     ]
    }
   ],
   "source": [
    "#Create the vector Y and matrix X\n",
    "X = combined_data.drop('price',axis=1)\n",
    "y = combined_data[['price']]\n",
    "\n",
    "#Split data by a ration of 70% train and 30% test\n",
    "X_train, X_test, y_train, y_test = train_test_split(X, y, test_size = 0.3, random_state = 42)\n",
    "\n",
    "#Create Random Forest Model\n",
    "clf = RandomForestRegressor()\n",
    "\n",
    "#Train the model\n",
    "clf.fit(X_train, y_train)\n",
    "\n",
    "#Predict the values on train and test sets\n",
    "y_test_pred = clf.predict(X_test)\n",
    "y_train_pred = clf.predict(X_train)\n",
    "\n",
    "#Get r-squared score\n",
    "test_score = r2_score(y_test, y_test_pred)\n",
    "train_score = r2_score(y_train, y_train_pred)\n",
    "\n",
    "#Print the scores\n",
    "print(f'Train Score: {round(train_score,2)}\\nTest score: {round(test_score,3)}')\n"
   ]
  },
  {
   "cell_type": "markdown",
   "metadata": {},
   "source": [
    "The next code will take both the test data results and pair it with the predicted results from the model so we can get a deeper look on exactly what the model predicted for each actual price value."
   ]
  },
  {
   "cell_type": "code",
   "execution_count": 50,
   "metadata": {},
   "outputs": [
    {
     "data": {
      "text/html": [
       "<div>\n",
       "<style scoped>\n",
       "    .dataframe tbody tr th:only-of-type {\n",
       "        vertical-align: middle;\n",
       "    }\n",
       "\n",
       "    .dataframe tbody tr th {\n",
       "        vertical-align: top;\n",
       "    }\n",
       "\n",
       "    .dataframe thead th {\n",
       "        text-align: right;\n",
       "    }\n",
       "</style>\n",
       "<table border=\"1\" class=\"dataframe\">\n",
       "  <thead>\n",
       "    <tr style=\"text-align: right;\">\n",
       "      <th></th>\n",
       "      <th>Actual Price</th>\n",
       "      <th>Random Forest Predicted Price</th>\n",
       "    </tr>\n",
       "  </thead>\n",
       "  <tbody>\n",
       "    <tr>\n",
       "      <th>0</th>\n",
       "      <td>71.0</td>\n",
       "      <td>89.679014</td>\n",
       "    </tr>\n",
       "    <tr>\n",
       "      <th>1</th>\n",
       "      <td>193.0</td>\n",
       "      <td>173.209728</td>\n",
       "    </tr>\n",
       "    <tr>\n",
       "      <th>2</th>\n",
       "      <td>60.0</td>\n",
       "      <td>53.493508</td>\n",
       "    </tr>\n",
       "    <tr>\n",
       "      <th>3</th>\n",
       "      <td>90.0</td>\n",
       "      <td>114.354732</td>\n",
       "    </tr>\n",
       "    <tr>\n",
       "      <th>4</th>\n",
       "      <td>110.0</td>\n",
       "      <td>116.632207</td>\n",
       "    </tr>\n",
       "    <tr>\n",
       "      <th>...</th>\n",
       "      <td>...</td>\n",
       "      <td>...</td>\n",
       "    </tr>\n",
       "    <tr>\n",
       "      <th>1836</th>\n",
       "      <td>140.0</td>\n",
       "      <td>137.517853</td>\n",
       "    </tr>\n",
       "    <tr>\n",
       "      <th>1837</th>\n",
       "      <td>37.0</td>\n",
       "      <td>70.656730</td>\n",
       "    </tr>\n",
       "    <tr>\n",
       "      <th>1838</th>\n",
       "      <td>40.0</td>\n",
       "      <td>70.656730</td>\n",
       "    </tr>\n",
       "    <tr>\n",
       "      <th>1839</th>\n",
       "      <td>149.0</td>\n",
       "      <td>199.592619</td>\n",
       "    </tr>\n",
       "    <tr>\n",
       "      <th>1840</th>\n",
       "      <td>77.0</td>\n",
       "      <td>74.519216</td>\n",
       "    </tr>\n",
       "  </tbody>\n",
       "</table>\n",
       "<p>1841 rows × 2 columns</p>\n",
       "</div>"
      ],
      "text/plain": [
       "      Actual Price  Random Forest Predicted Price\n",
       "0             71.0                      89.679014\n",
       "1            193.0                     173.209728\n",
       "2             60.0                      53.493508\n",
       "3             90.0                     114.354732\n",
       "4            110.0                     116.632207\n",
       "...            ...                            ...\n",
       "1836         140.0                     137.517853\n",
       "1837          37.0                      70.656730\n",
       "1838          40.0                      70.656730\n",
       "1839         149.0                     199.592619\n",
       "1840          77.0                      74.519216\n",
       "\n",
       "[1841 rows x 2 columns]"
      ]
     },
     "execution_count": 50,
     "metadata": {},
     "output_type": "execute_result"
    }
   ],
   "source": [
    "#Turn the array of y_test predictions into a dataframe\n",
    "y_test_pred = pd.Series(y_test_pred.squeeze())\n",
    "y_test_pred = pd.DataFrame({'Random Forest Predicted Price': y_test_pred})\n",
    "#reset the index of our y_test values so it aligns with y_test_pred\n",
    "y_test = y_test.reset_index(drop = True)\n",
    "#Rename price column\n",
    "y_test = y_test.rename(columns = {'price': 'Actual Price'})\n",
    "#obtain results by concatenating the two dataframes\n",
    "results = [y_test,y_test_pred]\n",
    "results = pd.concat(results, axis = 1)\n",
    "#view these results\n",
    "results"
   ]
  },
  {
   "cell_type": "code",
   "execution_count": 51,
   "metadata": {},
   "outputs": [],
   "source": [
    "#commit the results to an excel file\n",
    "final_results = results.to_excel('random_forest_airbnb_results.xls')"
   ]
  },
  {
   "cell_type": "markdown",
   "metadata": {},
   "source": [
    "The code below will give us an idea of which features within our data were most important when trying to predict the price"
   ]
  },
  {
   "cell_type": "code",
   "execution_count": 52,
   "metadata": {
    "scrolled": true
   },
   "outputs": [
    {
     "data": {
      "text/plain": [
       "<matplotlib.axes._subplots.AxesSubplot at 0x133ce4990>"
      ]
     },
     "execution_count": 52,
     "metadata": {},
     "output_type": "execute_result"
    },
    {
     "data": {
      "image/png": "[encoded data removed]",
      "text/plain": [
       "<Figure size 432x288 with 1 Axes>"
      ]
     },
     "metadata": {
      "needs_background": "light"
     },
     "output_type": "display_data"
    }
   ],
   "source": [
    "#list the training columns\n",
    "train_cols = X.columns\n",
    "#check importance of features\n",
    "importances = clf.feature_importances_\n",
    "feat_names = train_cols\n",
    "#Obtain importance in model prediction of each feature in the listed training columns\n",
    "tree_result = pd.DataFrame({'feature': feat_names, 'importance': importances})\n",
    "#sort the importance by score, highest importance to lowest and plot it as a bar chart\n",
    "tree_result.sort_values(by='importance',ascending=False)[:10].plot(x='feature', y='importance', kind='bar',color='blue')"
   ]
  },
  {
   "cell_type": "code",
   "execution_count": null,
   "metadata": {},
   "outputs": [],
   "source": []
  },
  {
   "cell_type": "code",
   "execution_count": null,
   "metadata": {},
   "outputs": [],
   "source": []
  }
 ],
 "metadata": {
  "kernelspec": {
   "display_name": "Python 3",
   "language": "python",
   "name": "python3"
  },
  "language_info": {
   "codemirror_mode": {
    "name": "ipython",
    "version": 3
   },
   "file_extension": ".py",
   "mimetype": "text/x-python",
   "name": "python",
   "nbconvert_exporter": "python",
   "pygments_lexer": "ipython3",
   "version": "3.7.4"
  }
 },
 "nbformat": 4,
 "nbformat_minor": 2
}
